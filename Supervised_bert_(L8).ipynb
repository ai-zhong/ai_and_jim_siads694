{
 "cells": [
  {
   "cell_type": "code",
   "execution_count": null,
   "metadata": {
    "id": "B1dokUkqySH1"
   },
   "outputs": [],
   "source": [
    "import os\n",
    "import shutil\n",
    "\n",
    "import tensorflow as tf\n",
    "import tensorflow_hub as hub\n",
    "\n",
    "!pip install -q tf-models-official\n",
    "from official.nlp import optimization  # to create AdamW optimizer\n",
    "\n",
    "import matplotlib.pyplot as plt\n",
    "\n",
    "tf.get_logger().setLevel('ERROR')\n",
    "\n",
    "!pip install tensorflow_text\n",
    "import tensorflow_text as text"
   ]
  },
  {
   "cell_type": "code",
   "execution_count": 8,
   "metadata": {
    "executionInfo": {
     "elapsed": 974,
     "status": "ok",
     "timestamp": 1622235566557,
     "user": {
      "displayName": "Ai Zhong",
      "photoUrl": "https://lh3.googleusercontent.com/a-/AOh14Gh2MWN-q_WG3Xb3YELMkck5bLErFAYBIGqZ_8lQ=s64",
      "userId": "11851498678274176197"
     },
     "user_tz": 420
    },
    "id": "kz378dtfd-K6"
   },
   "outputs": [],
   "source": [
    "import pandas as pd\n",
    "\n",
    "df = pd.read_csv('sample_data/WikiLarge_Train.csv')\n",
    "AUTOTUNE = tf.data.AUTOTUNE\n",
    "batch_size = 32\n",
    "seed = 42\n",
    "\n",
    "# train_label = df['label']\n",
    "# train_ds = tf.data.Dataset.from_tensor_slices((df.original_text.values, train_label.values))\n",
    "# train_ds = train_ds.cache().prefetch(buffer_size=AUTOTUNE)"
   ]
  },
  {
   "cell_type": "code",
   "execution_count": 9,
   "metadata": {
    "executionInfo": {
     "elapsed": 195,
     "status": "ok",
     "timestamp": 1622235568079,
     "user": {
      "displayName": "Ai Zhong",
      "photoUrl": "https://lh3.googleusercontent.com/a-/AOh14Gh2MWN-q_WG3Xb3YELMkck5bLErFAYBIGqZ_8lQ=s64",
      "userId": "11851498678274176197"
     },
     "user_tz": 420
    },
    "id": "Ij1SkcUPHO9k"
   },
   "outputs": [],
   "source": [
    "pos_df = df[df.label==1]\n",
    "neg_df = df[df.label==0]"
   ]
  },
  {
   "cell_type": "code",
   "execution_count": 10,
   "metadata": {
    "colab": {
     "base_uri": "https://localhost:8080/"
    },
    "executionInfo": {
     "elapsed": 311,
     "status": "ok",
     "timestamp": 1622235569662,
     "user": {
      "displayName": "Ai Zhong",
      "photoUrl": "https://lh3.googleusercontent.com/a-/AOh14Gh2MWN-q_WG3Xb3YELMkck5bLErFAYBIGqZ_8lQ=s64",
      "userId": "11851498678274176197"
     },
     "user_tz": 420
    },
    "id": "D5ft_f4eJMBK",
    "outputId": "ca7bf53a-6b7a-4ec3-979d-56072e19966c"
   },
   "outputs": [
    {
     "data": {
      "text/plain": [
       "((208384, 2), (208384, 2))"
      ]
     },
     "execution_count": 10,
     "metadata": {
      "tags": []
     },
     "output_type": "execute_result"
    }
   ],
   "source": [
    "pos_df.shape, neg_df.shape"
   ]
  },
  {
   "cell_type": "code",
   "execution_count": 11,
   "metadata": {
    "colab": {
     "base_uri": "https://localhost:8080/"
    },
    "executionInfo": {
     "elapsed": 15992,
     "status": "ok",
     "timestamp": 1622235588837,
     "user": {
      "displayName": "Ai Zhong",
      "photoUrl": "https://lh3.googleusercontent.com/a-/AOh14Gh2MWN-q_WG3Xb3YELMkck5bLErFAYBIGqZ_8lQ=s64",
      "userId": "11851498678274176197"
     },
     "user_tz": 420
    },
    "id": "cVOKEYNJJMDv",
    "outputId": "cdc2ed8a-b8d7-463c-de08-e9f3bf55f570"
   },
   "outputs": [
    {
     "name": "stderr",
     "output_type": "stream",
     "text": [
      "100%|██████████| 208384/208384 [00:15<00:00, 13195.29it/s]\n"
     ]
    }
   ],
   "source": [
    "from tqdm import tqdm\n",
    "import os\n",
    "\n",
    "os.makedirs('wiki_train/pos')\n",
    "\n",
    "for i in tqdm(range(len(pos_df))):\n",
    "  text = pos_df.original_text.iloc[i]\n",
    "  with open(f'wiki_train/pos/{i}.txt', 'w') as f:\n",
    "    f.write(text)\n",
    "    f.close()"
   ]
  },
  {
   "cell_type": "code",
   "execution_count": 12,
   "metadata": {
    "colab": {
     "base_uri": "https://localhost:8080/"
    },
    "executionInfo": {
     "elapsed": 15904,
     "status": "ok",
     "timestamp": 1622235606509,
     "user": {
      "displayName": "Ai Zhong",
      "photoUrl": "https://lh3.googleusercontent.com/a-/AOh14Gh2MWN-q_WG3Xb3YELMkck5bLErFAYBIGqZ_8lQ=s64",
      "userId": "11851498678274176197"
     },
     "user_tz": 420
    },
    "id": "II34h2r3JMGC",
    "outputId": "22d87612-9686-4ff9-9b65-a37349759381"
   },
   "outputs": [
    {
     "name": "stderr",
     "output_type": "stream",
     "text": [
      "100%|██████████| 208384/208384 [00:15<00:00, 13187.77it/s]\n"
     ]
    }
   ],
   "source": [
    "os.makedirs('wiki_train/neg')\n",
    "\n",
    "for i in tqdm(range(len(neg_df))):\n",
    "  text = neg_df.original_text.iloc[i]\n",
    "  with open(f'wiki_train/neg/{i}_.txt', 'w') as f:\n",
    "    f.write(text)\n",
    "    f.close()"
   ]
  },
  {
   "cell_type": "code",
   "execution_count": null,
   "metadata": {
    "id": "9jjvAdmpER49"
   },
   "outputs": [],
   "source": [
    "# os.rmdir('wiki_train/.ipynb_checkpoints')"
   ]
  },
  {
   "cell_type": "code",
   "execution_count": 15,
   "metadata": {
    "colab": {
     "base_uri": "https://localhost:8080/"
    },
    "executionInfo": {
     "elapsed": 19814,
     "status": "ok",
     "timestamp": 1622235635733,
     "user": {
      "displayName": "Ai Zhong",
      "photoUrl": "https://lh3.googleusercontent.com/a-/AOh14Gh2MWN-q_WG3Xb3YELMkck5bLErFAYBIGqZ_8lQ=s64",
      "userId": "11851498678274176197"
     },
     "user_tz": 420
    },
    "id": "3h-sSoNtGkYU",
    "outputId": "4b610778-2b7c-4c11-bf56-ba3068659342"
   },
   "outputs": [
    {
     "name": "stdout",
     "output_type": "stream",
     "text": [
      "Found 416768 files belonging to 2 classes.\n"
     ]
    }
   ],
   "source": [
    "AUTOTUNE = tf.data.AUTOTUNE\n",
    "batch_size = 32\n",
    "seed = 42\n",
    "\n",
    "raw_train_ds = tf.keras.preprocessing.text_dataset_from_directory(\n",
    "    'wiki_train/',\n",
    "    batch_size=batch_size,\n",
    "    seed=seed)\n",
    "\n",
    "class_names = raw_train_ds.class_names\n",
    "train_ds = raw_train_ds.cache().prefetch(buffer_size=AUTOTUNE)"
   ]
  },
  {
   "cell_type": "code",
   "execution_count": null,
   "metadata": {
    "id": "ubxN-BlhESFE"
   },
   "outputs": [],
   "source": [
    "parameters={\"BERT_L8\": \"https://tfhub.dev/tensorflow/small_bert/bert_en_uncased_L-8_H-512_A-8/1\",\n",
    "\"Preprocess_L8\": \"https://tfhub.dev/tensorflow/bert_en_uncased_preprocess/3\",\n",
    "\"BERT_L4\": \"https://tfhub.dev/tensorflow/small_bert/bert_en_uncased_L-4_H-512_A-8/1\",\n",
    "\"Preprocess_L4\": \"https://tfhub.dev/tensorflow/bert_en_uncased_preprocess/3\"}\n",
    "\n",
    "tfhub_handle_preprocess = parameters['Preprocess_L8']\n",
    "tfhub_handle_encoder = parameters['BERT_L8']"
   ]
  },
  {
   "cell_type": "code",
   "execution_count": null,
   "metadata": {
    "id": "BlBqiORFgyLF"
   },
   "outputs": [],
   "source": [
    "bert_preprocess_model = hub.KerasLayer(tfhub_handle_preprocess)\n",
    "bert_model = hub.KerasLayer(tfhub_handle_encoder)"
   ]
  },
  {
   "cell_type": "code",
   "execution_count": null,
   "metadata": {
    "id": "ApwD429niBg2"
   },
   "outputs": [],
   "source": [
    "loss = tf.keras.losses.BinaryCrossentropy(from_logits=True)\n",
    "metrics = tf.metrics.BinaryAccuracy()\n",
    "\n",
    "epochs = 5\n",
    "steps_per_epoch = tf.data.experimental.cardinality(train_ds).numpy()\n",
    "num_train_steps = steps_per_epoch * epochs\n",
    "num_warmup_steps = int(0.1*num_train_steps)\n",
    "\n",
    "init_lr = 3e-5\n",
    "optimizer = optimization.create_optimizer(init_lr=init_lr,\n",
    "                                          num_train_steps=num_train_steps,\n",
    "                                          num_warmup_steps=num_warmup_steps,\n",
    "                                          optimizer_type='adamw')"
   ]
  },
  {
   "cell_type": "code",
   "execution_count": null,
   "metadata": {
    "id": "mEsD6fTqh-fc"
   },
   "outputs": [],
   "source": [
    "def build_classifier_model():\n",
    "    text_input = tf.keras.layers.Input(shape=(), dtype=tf.string, name='text')\n",
    "    preprocessing_layer = hub.KerasLayer(tfhub_handle_preprocess, name='preprocessing')\n",
    "    encoder_inputs = preprocessing_layer(text_input)\n",
    "\n",
    "    encoder = hub.KerasLayer(tfhub_handle_encoder, trainable=True, name='BERT_encoder')\n",
    "    outputs = encoder(encoder_inputs)\n",
    "    net = outputs['pooled_output']\n",
    "    net = tf.keras.layers.Dropout(0.5)(net)\n",
    "    net = tf.keras.layers.Dense(1, activation=None, name='classifier')(net)\n",
    "    return tf.keras.Model(text_input, net)\n",
    "\n",
    "classifier_model = build_classifier_model()\n",
    "classifier_model.compile(optimizer=optimizer,\n",
    "                         loss=loss,\n",
    "                         metrics=metrics)"
   ]
  },
  {
   "cell_type": "code",
   "execution_count": null,
   "metadata": {
    "colab": {
     "base_uri": "https://localhost:8080/"
    },
    "executionInfo": {
     "elapsed": 10437153,
     "status": "ok",
     "timestamp": 1621196190794,
     "user": {
      "displayName": "Ai Zhong",
      "photoUrl": "https://lh3.googleusercontent.com/a-/AOh14Gh2MWN-q_WG3Xb3YELMkck5bLErFAYBIGqZ_8lQ=s64",
      "userId": "11851498678274176197"
     },
     "user_tz": 420
    },
    "id": "s4PG4mVZh-i_",
    "outputId": "e7e90131-2ef2-4981-bdd7-e4067504f2f9"
   },
   "outputs": [
    {
     "name": "stdout",
     "output_type": "stream",
     "text": [
      "Epoch 1/5\n",
      "13024/13024 [==============================] - 2174s 166ms/step - loss: 0.6057 - binary_accuracy: 0.6555\n",
      "Epoch 2/5\n",
      "13024/13024 [==============================] - 2067s 159ms/step - loss: 0.4880 - binary_accuracy: 0.7417\n",
      "Epoch 3/5\n",
      "13024/13024 [==============================] - 2064s 158ms/step - loss: 0.4418 - binary_accuracy: 0.7752\n",
      "Epoch 4/5\n",
      "13024/13024 [==============================] - 2067s 159ms/step - loss: 0.3952 - binary_accuracy: 0.8050\n",
      "Epoch 5/5\n",
      "13024/13024 [==============================] - 2064s 159ms/step - loss: 0.3581 - binary_accuracy: 0.8260\n"
     ]
    }
   ],
   "source": [
    "# print(f'Training model with {tfhub_handle_encoder}')\n",
    "history = classifier_model.fit(x=train_ds, epochs=epochs)"
   ]
  },
  {
   "cell_type": "code",
   "execution_count": null,
   "metadata": {
    "colab": {
     "base_uri": "https://localhost:8080/"
    },
    "executionInfo": {
     "elapsed": 10416135,
     "status": "ok",
     "timestamp": 1621196202141,
     "user": {
      "displayName": "Ai Zhong",
      "photoUrl": "https://lh3.googleusercontent.com/a-/AOh14Gh2MWN-q_WG3Xb3YELMkck5bLErFAYBIGqZ_8lQ=s64",
      "userId": "11851498678274176197"
     },
     "user_tz": 420
    },
    "id": "s1-b1D1Djjlm",
    "outputId": "be61c626-02b4-400f-c851-7e7e237ef670"
   },
   "outputs": [
    {
     "name": "stderr",
     "output_type": "stream",
     "text": [
      "WARNING:absl:Found untraced functions such as restored_function_body, restored_function_body, restored_function_body, restored_function_body, restored_function_body while saving (showing 5 of 610). These functions will not be directly callable after loading.\n",
      "WARNING:absl:Found untraced functions such as restored_function_body, restored_function_body, restored_function_body, restored_function_body, restored_function_body while saving (showing 5 of 610). These functions will not be directly callable after loading.\n"
     ]
    }
   ],
   "source": [
    "saved_model_path='drive/MyDrive/Milestone2/wiki_difficulty_classification_bert_v2'\n",
    "classifier_model.save(saved_model_path, include_optimizer=False)"
   ]
  },
  {
   "cell_type": "code",
   "execution_count": 17,
   "metadata": {
    "executionInfo": {
     "elapsed": 12568,
     "status": "ok",
     "timestamp": 1622235782918,
     "user": {
      "displayName": "Ai Zhong",
      "photoUrl": "https://lh3.googleusercontent.com/a-/AOh14Gh2MWN-q_WG3Xb3YELMkck5bLErFAYBIGqZ_8lQ=s64",
      "userId": "11851498678274176197"
     },
     "user_tz": 420
    },
    "id": "e9dAxUGQjjpP"
   },
   "outputs": [],
   "source": [
    "import tensorflow as tf\n",
    "# !pip install tensorflow_text\n",
    "# import tensorflow_text as text\n",
    "import pandas as pd\n",
    "\n",
    "\n",
    "saved_model_path='drive/MyDrive/Milestone2/wiki_difficulty_classification_bert_v2'\n",
    "reloaded_model = tf.saved_model.load(saved_model_path)\n",
    "\n",
    "# preparing for submission, apply BERT on test data\n",
    "test = pd.read_csv('drive/MyDrive/Milestone2/WikiLarge_Test.csv')\n",
    "test_ls = test['original_text'].tolist()\n",
    "\n",
    "results_all=[]\n",
    "temp = tf.sigmoid(reloaded_model(tf.constant(test_ls[:1000])))\n",
    "results_all.append(temp)\n",
    "\n",
    "from tqdm import tqdm\n",
    "\n",
    "for i in tqdm(range(1,120)):\n",
    "    reloaded_results = tf.sigmoid(reloaded_model(tf.constant(test_ls[i*1000:(i+1)*1000])))\n",
    "    results_all.append(reloaded_results)\n",
    "\n",
    "results_all2 = np.vstack(results_all)\n",
    "results_all3=np.ndarray.flatten((results_all2>0.5)*1)\n",
    "\n",
    "test['label']=results_all3\n",
    "submit = test.drop('original_text',1)\n",
    "submit.to_csv('BERT_submission_v2.csv', index=False)"
   ]
  },
  {
   "cell_type": "code",
   "execution_count": 20,
   "metadata": {
    "executionInfo": {
     "elapsed": 26591,
     "status": "ok",
     "timestamp": 1622236074893,
     "user": {
      "displayName": "Ai Zhong",
      "photoUrl": "https://lh3.googleusercontent.com/a-/AOh14Gh2MWN-q_WG3Xb3YELMkck5bLErFAYBIGqZ_8lQ=s64",
      "userId": "11851498678274176197"
     },
     "user_tz": 420
    },
    "id": "3R_SDb3a4clV"
   },
   "outputs": [],
   "source": [
    "df_raw = df.original_text.tolist()\n",
    "\n",
    "results_all = []\n",
    "temp = tf.sigmoid(reloaded_model(tf.constant(df_raw[:1000])))\n",
    "results_all.append(temp)"
   ]
  },
  {
   "cell_type": "code",
   "execution_count": null,
   "metadata": {
    "id": "EWszY_yDgsEW"
   },
   "outputs": [],
   "source": [
    "import pandas as pd\n",
    "\n",
    "test['label']=results_all3\n",
    "submit = test.drop('original_text',1)\n",
    "submit.to_csv('BERT_submission_v2.csv', index=False)"
   ]
  },
  {
   "cell_type": "code",
   "execution_count": null,
   "metadata": {
    "id": "ynY_WYmDgsIS"
   },
   "outputs": [],
   "source": []
  },
  {
   "cell_type": "code",
   "execution_count": null,
   "metadata": {
    "id": "6F5WmpDdgK0d"
   },
   "outputs": [],
   "source": []
  },
  {
   "cell_type": "code",
   "execution_count": null,
   "metadata": {
    "id": "vElsVRkYhD-V"
   },
   "outputs": [],
   "source": []
  },
  {
   "cell_type": "code",
   "execution_count": null,
   "metadata": {
    "id": "Gh4flEughEBT"
   },
   "outputs": [],
   "source": []
  },
  {
   "cell_type": "code",
   "execution_count": null,
   "metadata": {
    "id": "QAFxXHPchEF7"
   },
   "outputs": [],
   "source": []
  }
 ],
 "metadata": {
  "accelerator": "GPU",
  "colab": {
   "authorship_tag": "ABX9TyM/zzbJuG+GJHgzRbagMFdQ",
   "collapsed_sections": [],
   "mount_file_id": "1L8IA20Rr6G9hzPytHNVsafiJNfJyym4e",
   "name": "Milestone2 bert v2 (L8).ipynb",
   "provenance": [
    {
     "file_id": "1QjSOa3I6vQKtWXOKnbk2w8Gm5b3wgTwD",
     "timestamp": 1621185478311
    }
   ]
  },
  "kernelspec": {
   "display_name": "Python 3",
   "language": "python",
   "name": "python3"
  },
  "language_info": {
   "codemirror_mode": {
    "name": "ipython",
    "version": 3
   },
   "file_extension": ".py",
   "mimetype": "text/x-python",
   "name": "python",
   "nbconvert_exporter": "python",
   "pygments_lexer": "ipython3",
   "version": "3.6.7"
  }
 },
 "nbformat": 4,
 "nbformat_minor": 1
}
