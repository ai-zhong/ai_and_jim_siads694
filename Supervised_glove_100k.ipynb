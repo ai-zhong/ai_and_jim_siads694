{
 "cells": [
  {
   "cell_type": "code",
   "execution_count": 1,
   "metadata": {
    "executionInfo": {
     "elapsed": 33317,
     "status": "ok",
     "timestamp": 1622242632908,
     "user": {
      "displayName": "Ai Zhong",
      "photoUrl": "https://lh3.googleusercontent.com/a-/AOh14Gh2MWN-q_WG3Xb3YELMkck5bLErFAYBIGqZ_8lQ=s64",
      "userId": "11851498678274176197"
     },
     "user_tz": 420
    },
    "id": "PkZPXM8NrnSg"
   },
   "outputs": [],
   "source": [
    "import os\n",
    "import numpy as np\n",
    "import pickle\n",
    "\n",
    "\n",
    "GLOVE_DIR = 'drive/MyDrive/Milestone2/glove.6B.100d.txt'\n",
    "glove_dict = {}\n",
    "with open(GLOVE_DIR) as f:\n",
    "    for line in f:\n",
    "        word, *vector = line.split()\n",
    "        glove_dict[word]=np.array(vector).astype(float)\n",
    "\n",
    "re_tokenized = pickle.load(open('drive/MyDrive/Milestone2/re_tokenized_lemma.pkl','rb'))"
   ]
  },
  {
   "cell_type": "code",
   "execution_count": 2,
   "metadata": {
    "executionInfo": {
     "elapsed": 6,
     "status": "ok",
     "timestamp": 1622242632909,
     "user": {
      "displayName": "Ai Zhong",
      "photoUrl": "https://lh3.googleusercontent.com/a-/AOh14Gh2MWN-q_WG3Xb3YELMkck5bLErFAYBIGqZ_8lQ=s64",
      "userId": "11851498678274176197"
     },
     "user_tz": 420
    },
    "id": "d7frfiHPrzdA"
   },
   "outputs": [],
   "source": [
    "def get_average_glove_vec(list_of_tokens):\n",
    "    avg_vec=[]\n",
    "    for token in list_of_tokens:\n",
    "    if token in glove_dict:\n",
    "        avg_vec.append(glove_dict[token])\n",
    "\n",
    "    if len(avg_vec)>0:\n",
    "    avg_vec = np.mean(avg_vec, axis=0)\n",
    "    else:\n",
    "    avg_vec = np.zeros(100)\n",
    "\n",
    "    return avg_vec"
   ]
  },
  {
   "cell_type": "code",
   "execution_count": 3,
   "metadata": {
    "colab": {
     "base_uri": "https://localhost:8080/"
    },
    "executionInfo": {
     "elapsed": 17160,
     "status": "ok",
     "timestamp": 1622242650065,
     "user": {
      "displayName": "Ai Zhong",
      "photoUrl": "https://lh3.googleusercontent.com/a-/AOh14Gh2MWN-q_WG3Xb3YELMkck5bLErFAYBIGqZ_8lQ=s64",
      "userId": "11851498678274176197"
     },
     "user_tz": 420
    },
    "id": "5vJF4m56rzfs",
    "outputId": "b5e8f495-f5b4-4658-cee1-3129f0b586c6"
   },
   "outputs": [
    {
     "name": "stderr",
     "output_type": "stream",
     "text": [
      "100%|██████████| 416768/416768 [00:14<00:00, 28299.14it/s]\n"
     ]
    }
   ],
   "source": [
    "import pandas as pd\n",
    "from tqdm import tqdm\n",
    "\n",
    "df_original = pd.read_csv(\"drive/MyDrive/Milestone2/WikiLarge_Train.csv\")\n",
    "df_vecs = []\n",
    "\n",
    "for ls in tqdm(re_tokenized):\n",
    "    avg_vec = get_average_glove_vec(ls)\n",
    "    df_vecs.append(avg_vec)\n",
    "\n",
    "df_original['glove_avg'] = df_vecs\n",
    "\n",
    "df = df_original.sample(100000, random_state=42)\n",
    "X = df['glove_avg']\n",
    "y = df['label']"
   ]
  },
  {
   "cell_type": "code",
   "execution_count": 4,
   "metadata": {
    "executionInfo": {
     "elapsed": 1034,
     "status": "ok",
     "timestamp": 1622242651093,
     "user": {
      "displayName": "Ai Zhong",
      "photoUrl": "https://lh3.googleusercontent.com/a-/AOh14Gh2MWN-q_WG3Xb3YELMkck5bLErFAYBIGqZ_8lQ=s64",
      "userId": "11851498678274176197"
     },
     "user_tz": 420
    },
    "id": "wTFYVcj8rzik"
   },
   "outputs": [],
   "source": [
    "from sklearn.model_selection import train_test_split\n",
    "\n",
    "Train_X, Test_X, Train_Y, Test_Y = train_test_split(X,y,test_size=0.2, random_state=42)"
   ]
  },
  {
   "cell_type": "code",
   "execution_count": 5,
   "metadata": {
    "executionInfo": {
     "elapsed": 6,
     "status": "ok",
     "timestamp": 1622242651093,
     "user": {
      "displayName": "Ai Zhong",
      "photoUrl": "https://lh3.googleusercontent.com/a-/AOh14Gh2MWN-q_WG3Xb3YELMkck5bLErFAYBIGqZ_8lQ=s64",
      "userId": "11851498678274176197"
     },
     "user_tz": 420
    },
    "id": "vxdXrLNmYTwH"
   },
   "outputs": [],
   "source": [
    "# # save for later complex NN\n",
    "# train_indexes = Train_X.index\n",
    "# test_indexes = Test_X.index\n",
    "Train_X = np.vstack(Train_X)\n",
    "Test_X = np.vstack(Test_X)"
   ]
  },
  {
   "cell_type": "code",
   "execution_count": 6,
   "metadata": {
    "executionInfo": {
     "elapsed": 433,
     "status": "ok",
     "timestamp": 1622242651522,
     "user": {
      "displayName": "Ai Zhong",
      "photoUrl": "https://lh3.googleusercontent.com/a-/AOh14Gh2MWN-q_WG3Xb3YELMkck5bLErFAYBIGqZ_8lQ=s64",
      "userId": "11851498678274176197"
     },
     "user_tz": 420
    },
    "id": "_TUISuFrsFrH"
   },
   "outputs": [],
   "source": []
  },
  {
   "cell_type": "markdown",
   "metadata": {
    "id": "kYWHduFisJfL"
   },
   "source": [
    "# Random Forest"
   ]
  },
  {
   "cell_type": "code",
   "execution_count": null,
   "metadata": {
    "colab": {
     "base_uri": "https://localhost:8080/"
    },
    "executionInfo": {
     "elapsed": 1076015,
     "status": "ok",
     "timestamp": 1621577045775,
     "user": {
      "displayName": "Ai Zhong",
      "photoUrl": "https://lh3.googleusercontent.com/a-/AOh14Gh2MWN-q_WG3Xb3YELMkck5bLErFAYBIGqZ_8lQ=s64",
      "userId": "11851498678274176197"
     },
     "user_tz": 420
    },
    "id": "s2Vz5FEGsLKg",
    "outputId": "6104f682-c5c1-4dd4-abe8-c7532213392f"
   },
   "outputs": [
    {
     "data": {
      "text/plain": [
       "(0.68005, 0.6875335709751452)"
      ]
     },
     "execution_count": 9,
     "metadata": {
      "tags": []
     },
     "output_type": "execute_result"
    }
   ],
   "source": [
    "from sklearn.ensemble import RandomForestClassifier\n",
    "from sklearn.metrics import accuracy_score, f1_score\n",
    "\n",
    "rf = RandomForestClassifier(bootstrap= True,\n",
    " max_depth=70,\n",
    " max_features='auto',\n",
    " min_samples_leaf=4,\n",
    " min_samples_split=10,\n",
    " n_estimators=800)\n",
    "\n",
    "rf.fit(Train_X, Train_Y)\n",
    "rf_preds = rf.predict(Test_X)\n",
    "rf_acc = accuracy_score(Test_Y, rf_preds)\n",
    "rf_f1 = f1_score(Test_Y, rf_preds)\n",
    "rf_acc, rf_f1"
   ]
  },
  {
   "cell_type": "code",
   "execution_count": null,
   "metadata": {
    "id": "J96Zh8UQsQOL"
   },
   "outputs": [],
   "source": [
    "pickle.dump(rf, open('drive/MyDrive/Milestone2/trained_models/rf_word2vec.pkl', 'wb'))"
   ]
  },
  {
   "cell_type": "code",
   "execution_count": 7,
   "metadata": {
    "executionInfo": {
     "elapsed": 7836,
     "status": "ok",
     "timestamp": 1622242668586,
     "user": {
      "displayName": "Ai Zhong",
      "photoUrl": "https://lh3.googleusercontent.com/a-/AOh14Gh2MWN-q_WG3Xb3YELMkck5bLErFAYBIGqZ_8lQ=s64",
      "userId": "11851498678274176197"
     },
     "user_tz": 420
    },
    "id": "W1JIffdrkLPi"
   },
   "outputs": [],
   "source": [
    "reloaded_rf = pickle.load(open('drive/MyDrive/Milestone2/trained_models/rf_word2vec.pkl', 'rb'))"
   ]
  },
  {
   "cell_type": "code",
   "execution_count": 8,
   "metadata": {
    "colab": {
     "base_uri": "https://localhost:8080/"
    },
    "executionInfo": {
     "elapsed": 5097,
     "status": "ok",
     "timestamp": 1622242673680,
     "user": {
      "displayName": "Ai Zhong",
      "photoUrl": "https://lh3.googleusercontent.com/a-/AOh14Gh2MWN-q_WG3Xb3YELMkck5bLErFAYBIGqZ_8lQ=s64",
      "userId": "11851498678274176197"
     },
     "user_tz": 420
    },
    "id": "guJ1rkTFkRmT",
    "outputId": "143ce756-2eb0-4f11-dbf3-6cf7c743a80b"
   },
   "outputs": [
    {
     "data": {
      "text/plain": [
       "(68.00500000000001, 68.75335709751452)"
      ]
     },
     "execution_count": 8,
     "metadata": {
      "tags": []
     },
     "output_type": "execute_result"
    }
   ],
   "source": [
    "from sklearn.metrics import accuracy_score, f1_score\n",
    "\n",
    "rf_preds = reloaded_rf.predict(Test_X)\n",
    "rf_acc = accuracy_score(Test_Y, rf_preds)*100\n",
    "rf_f1 = f1_score(Test_Y, rf_preds)*100\n",
    "rf_acc, rf_f1"
   ]
  },
  {
   "cell_type": "code",
   "execution_count": 9,
   "metadata": {
    "colab": {
     "base_uri": "https://localhost:8080/"
    },
    "executionInfo": {
     "elapsed": 17800,
     "status": "ok",
     "timestamp": 1622242693614,
     "user": {
      "displayName": "Ai Zhong",
      "photoUrl": "https://lh3.googleusercontent.com/a-/AOh14Gh2MWN-q_WG3Xb3YELMkck5bLErFAYBIGqZ_8lQ=s64",
      "userId": "11851498678274176197"
     },
     "user_tz": 420
    },
    "id": "_Ci1CahxkRo5",
    "outputId": "8e89d1a2-614d-43cb-a99e-bbf1133d4188"
   },
   "outputs": [
    {
     "data": {
      "text/plain": [
       "0.9695875"
      ]
     },
     "execution_count": 9,
     "metadata": {
      "tags": []
     },
     "output_type": "execute_result"
    }
   ],
   "source": [
    "reloaded_rf.score(Train_X, Train_Y)"
   ]
  },
  {
   "cell_type": "code",
   "execution_count": 10,
   "metadata": {
    "colab": {
     "base_uri": "https://localhost:8080/",
     "height": 410
    },
    "executionInfo": {
     "elapsed": 5748,
     "status": "ok",
     "timestamp": 1622242699349,
     "user": {
      "displayName": "Ai Zhong",
      "photoUrl": "https://lh3.googleusercontent.com/a-/AOh14Gh2MWN-q_WG3Xb3YELMkck5bLErFAYBIGqZ_8lQ=s64",
      "userId": "11851498678274176197"
     },
     "user_tz": 420
    },
    "id": "b8p0pgzVlTCP",
    "outputId": "bf43cd45-4bf6-43b5-f575-738a0844fa07"
   },
   "outputs": [
    {
     "data": {
      "image/png": "[encoded data removed]",
      "text/plain": [
       "<Figure size 576x432 with 1 Axes>"
      ]
     },
     "metadata": {
      "tags": []
     },
     "output_type": "display_data"
    }
   ],
   "source": [
    "from sklearn.metrics import roc_auc_score, roc_curve, auc\n",
    "\n",
    "y_score = reloaded_rf.predict_proba(Test_X)\n",
    "fpr, tpr, thresholds = roc_curve(Test_Y, y_score[:,1], pos_label=1)\n",
    "area = auc(fpr, tpr)\n",
    "\n",
    "%matplotlib inline\n",
    "import matplotlib.pyplot as plt\n",
    "import seaborn as sns\n",
    "sns.set_theme()\n",
    "\n",
    "plt.figure(figsize=(8,6))\n",
    "lw = 2\n",
    "plt.plot(fpr, tpr, color='darkorange',\n",
    "         lw=lw, label='ROC curve (area = %0.2f)' % area)\n",
    "plt.plot([0, 1], [0, 1], color='navy', linestyle='--')\n",
    "plt.xlim([0.0, 1.0])\n",
    "plt.ylim([0.0, 1.05])\n",
    "plt.xlabel('False Positive Rate')\n",
    "plt.ylabel('True Positive Rate')\n",
    "plt.title('ROC score RandomForest with glove features')\n",
    "plt.legend(loc=\"lower right\")\n",
    "plt.savefig('ROC_RandomForest_glove.jpg')"
   ]
  },
  {
   "cell_type": "code",
   "execution_count": 13,
   "metadata": {
    "executionInfo": {
     "elapsed": 582,
     "status": "ok",
     "timestamp": 1622242749469,
     "user": {
      "displayName": "Ai Zhong",
      "photoUrl": "https://lh3.googleusercontent.com/a-/AOh14Gh2MWN-q_WG3Xb3YELMkck5bLErFAYBIGqZ_8lQ=s64",
      "userId": "11851498678274176197"
     },
     "user_tz": 420
    },
    "id": "5CH5jfVakRsd"
   },
   "outputs": [],
   "source": [
    "roc_df = pd.DataFrame([fpr, tpr,]).T\n",
    "roc_df.columns = ['rf_fpr', 'rf_tpr']\n",
    "roc_df['feat'] = 'glove'\n",
    "roc_df.to_csv('roc_glove_100k.csv')"
   ]
  },
  {
   "cell_type": "code",
   "execution_count": null,
   "metadata": {
    "id": "8_P4XEsMM0ZJ"
   },
   "outputs": [],
   "source": []
  },
  {
   "cell_type": "code",
   "execution_count": null,
   "metadata": {
    "id": "iXuXtLBDM0by"
   },
   "outputs": [],
   "source": []
  },
  {
   "cell_type": "markdown",
   "metadata": {
    "id": "0rkPMbZKsRAo"
   },
   "source": [
    "# Skipping SVM with large sample data"
   ]
  },
  {
   "cell_type": "markdown",
   "metadata": {
    "id": "D0pjpGcetN9m"
   },
   "source": [
    "# MLP\n",
    "\n",
    "### For Glove vectors do not need to do feature scaling"
   ]
  },
  {
   "cell_type": "code",
   "execution_count": null,
   "metadata": {
    "id": "uMyJqzwgtNHA"
   },
   "outputs": [],
   "source": [
    "from sklearn.neural_network import MLPClassifier\n",
    "# from sklearn.metrics import f1_score, accuracy_score\n",
    "\n",
    "mlp = MLPClassifier(hidden_layer_sizes=(150), random_state=1, max_iter=300).fit(Train_X, Train_Y)\n",
    "mlp_predict = mlp.predict(Test_X)\n",
    "mlp_acc = accuracy_score(Test_Y, mlp_predict)\n",
    "mlp_f1 = f1_score(Test_Y, mlp_predict)"
   ]
  },
  {
   "cell_type": "code",
   "execution_count": null,
   "metadata": {
    "id": "F-JfgW1DtTDj"
   },
   "outputs": [],
   "source": [
    "# pickle.dump(mlp, open('drive/MyDrive/Milestone2/trained_models/mlp_word2vec.pkl', 'wb'))\n",
    "\n",
    "reloaded_mlp = pickle.load(open('drive/MyDrive/Milestone2/trained_models/mlp_word2vec.pkl', 'rb'))"
   ]
  },
  {
   "cell_type": "code",
   "execution_count": null,
   "metadata": {
    "colab": {
     "base_uri": "https://localhost:8080/"
    },
    "executionInfo": {
     "elapsed": 120,
     "status": "ok",
     "timestamp": 1622098091106,
     "user": {
      "displayName": "Ai Zhong",
      "photoUrl": "https://lh3.googleusercontent.com/a-/AOh14Gh2MWN-q_WG3Xb3YELMkck5bLErFAYBIGqZ_8lQ=s64",
      "userId": "11851498678274176197"
     },
     "user_tz": 420
    },
    "id": "eJ-Ff81wh99R",
    "outputId": "f605af4e-2933-4b7a-ef36-3bb881fc36ab"
   },
   "outputs": [
    {
     "data": {
      "text/plain": [
       "(64.05999999999999, 62.81043046357616)"
      ]
     },
     "execution_count": 13,
     "metadata": {
      "tags": []
     },
     "output_type": "execute_result"
    }
   ],
   "source": [
    "mlp_predict = reloaded_mlp.predict(Test_X)\n",
    "mlp_acc = accuracy_score(Test_Y, mlp_predict)*100\n",
    "mlp_f1 = f1_score(Test_Y, mlp_predict)*100\n",
    "mlp_acc, mlp_f1"
   ]
  },
  {
   "cell_type": "code",
   "execution_count": null,
   "metadata": {
    "colab": {
     "base_uri": "https://localhost:8080/"
    },
    "executionInfo": {
     "elapsed": 318,
     "status": "ok",
     "timestamp": 1622098111519,
     "user": {
      "displayName": "Ai Zhong",
      "photoUrl": "https://lh3.googleusercontent.com/a-/AOh14Gh2MWN-q_WG3Xb3YELMkck5bLErFAYBIGqZ_8lQ=s64",
      "userId": "11851498678274176197"
     },
     "user_tz": 420
    },
    "id": "YLE5bd1XlHMT",
    "outputId": "85945370-edc4-437f-a5e7-7309296646bf"
   },
   "outputs": [
    {
     "data": {
      "text/plain": [
       "0.7930125"
      ]
     },
     "execution_count": 14,
     "metadata": {
      "tags": []
     },
     "output_type": "execute_result"
    }
   ],
   "source": [
    "reloaded_mlp.score(Train_X, Train_Y)"
   ]
  },
  {
   "cell_type": "code",
   "execution_count": null,
   "metadata": {
    "colab": {
     "base_uri": "https://localhost:8080/",
     "height": 410
    },
    "executionInfo": {
     "elapsed": 688,
     "status": "ok",
     "timestamp": 1622098341397,
     "user": {
      "displayName": "Ai Zhong",
      "photoUrl": "https://lh3.googleusercontent.com/a-/AOh14Gh2MWN-q_WG3Xb3YELMkck5bLErFAYBIGqZ_8lQ=s64",
      "userId": "11851498678274176197"
     },
     "user_tz": 420
    },
    "id": "JD3MibNolvmm",
    "outputId": "168982d5-7852-4425-b0fa-a4873c8a39c1"
   },
   "outputs": [
    {
     "data": {
      "image/png": "[encoded data removed]",
      "text/plain": [
       "<Figure size 576x432 with 1 Axes>"
      ]
     },
     "metadata": {
      "tags": []
     },
     "output_type": "display_data"
    }
   ],
   "source": [
    "from sklearn.metrics import roc_auc_score, roc_curve, auc\n",
    "\n",
    "y_score = reloaded_mlp.predict_proba(Test_X)\n",
    "fpr, tpr, thresholds = roc_curve(Test_Y, y_score[:,1], pos_label=1)\n",
    "area = auc(fpr, tpr)\n",
    "\n",
    "%matplotlib inline\n",
    "import matplotlib.pyplot as plt\n",
    "import seaborn as sns\n",
    "sns.set_theme()\n",
    "\n",
    "plt.figure(figsize=(8,6))\n",
    "lw = 2\n",
    "plt.plot(fpr, tpr, color='darkorange',\n",
    "         lw=lw, label='ROC curve (area = %0.2f)' % area)\n",
    "plt.plot([0, 1], [0, 1], color='navy', linestyle='--')\n",
    "plt.xlim([0.0, 1.0])\n",
    "plt.ylim([0.0, 1.05])\n",
    "plt.xlabel('False Positive Rate')\n",
    "plt.ylabel('True Positive Rate')\n",
    "plt.title('ROC score MLP with glove features')\n",
    "plt.legend(loc=\"lower right\")\n",
    "plt.savefig('ROC_MLP_glove.jpg')"
   ]
  },
  {
   "cell_type": "code",
   "execution_count": null,
   "metadata": {
    "id": "1Q6maMGAlvpv"
   },
   "outputs": [],
   "source": []
  },
  {
   "cell_type": "code",
   "execution_count": null,
   "metadata": {
    "id": "zfBlQLBrlvsw"
   },
   "outputs": [],
   "source": []
  },
  {
   "cell_type": "markdown",
   "metadata": {
    "id": "xrq3N_rRlvvV"
   },
   "source": [
    "# Summary"
   ]
  },
  {
   "cell_type": "code",
   "execution_count": null,
   "metadata": {
    "id": "RkzKL2Ce2BpP"
   },
   "outputs": [],
   "source": [
    "score_df = pd.DataFrame([[mlp_acc, rf_acc],[mlp_f1, rf_f1]]).T\n",
    "score_df.columns=['accuracy', 'f1 score']\n",
    "score_df['model'] = ['MLP','RandomForest']\n",
    "score_df.to_csv('scores_10w_glove.csv')"
   ]
  },
  {
   "cell_type": "code",
   "execution_count": null,
   "metadata": {
    "colab": {
     "base_uri": "https://localhost:8080/",
     "height": 111
    },
    "executionInfo": {
     "elapsed": 119,
     "status": "ok",
     "timestamp": 1622098158684,
     "user": {
      "displayName": "Ai Zhong",
      "photoUrl": "https://lh3.googleusercontent.com/a-/AOh14Gh2MWN-q_WG3Xb3YELMkck5bLErFAYBIGqZ_8lQ=s64",
      "userId": "11851498678274176197"
     },
     "user_tz": 420
    },
    "id": "bmnhiAUwlS-0",
    "outputId": "4021a99c-3b37-4d8b-f08a-9b8c72c76d53"
   },
   "outputs": [
    {
     "data": {
      "text/html": [
       "<div>\n",
       "<style scoped>\n",
       "    .dataframe tbody tr th:only-of-type {\n",
       "        vertical-align: middle;\n",
       "    }\n",
       "\n",
       "    .dataframe tbody tr th {\n",
       "        vertical-align: top;\n",
       "    }\n",
       "\n",
       "    .dataframe thead th {\n",
       "        text-align: right;\n",
       "    }\n",
       "</style>\n",
       "<table border=\"1\" class=\"dataframe\">\n",
       "  <thead>\n",
       "    <tr style=\"text-align: right;\">\n",
       "      <th></th>\n",
       "      <th>accuracy</th>\n",
       "      <th>f1 score</th>\n",
       "      <th>model</th>\n",
       "    </tr>\n",
       "  </thead>\n",
       "  <tbody>\n",
       "    <tr>\n",
       "      <th>0</th>\n",
       "      <td>64.060</td>\n",
       "      <td>62.810430</td>\n",
       "      <td>MLP</td>\n",
       "    </tr>\n",
       "    <tr>\n",
       "      <th>1</th>\n",
       "      <td>68.005</td>\n",
       "      <td>68.753357</td>\n",
       "      <td>RandomForest</td>\n",
       "    </tr>\n",
       "  </tbody>\n",
       "</table>\n",
       "</div>"
      ],
      "text/plain": [
       "   accuracy   f1 score         model\n",
       "0    64.060  62.810430           MLP\n",
       "1    68.005  68.753357  RandomForest"
      ]
     },
     "execution_count": 16,
     "metadata": {
      "tags": []
     },
     "output_type": "execute_result"
    }
   ],
   "source": [
    "score_df"
   ]
  },
  {
   "cell_type": "code",
   "execution_count": null,
   "metadata": {
    "id": "hav2OJxulgCc"
   },
   "outputs": [],
   "source": []
  }
 ],
 "metadata": {
  "colab": {
   "authorship_tag": "ABX9TyPFN1s6pIcFQX6Xf/TkiuFm",
   "mount_file_id": "1VJIa6RjgjQWrS3St8tdN02DHS7VF4D25",
   "name": "Milestone2_glove_100k.ipynb",
   "provenance": [],
   "toc_visible": true
  },
  "kernelspec": {
   "display_name": "Python 3",
   "language": "python",
   "name": "python3"
  },
  "language_info": {
   "codemirror_mode": {
    "name": "ipython",
    "version": 3
   },
   "file_extension": ".py",
   "mimetype": "text/x-python",
   "name": "python",
   "nbconvert_exporter": "python",
   "pygments_lexer": "ipython3",
   "version": "3.6.7"
  }
 },
 "nbformat": 4,
 "nbformat_minor": 1
}
