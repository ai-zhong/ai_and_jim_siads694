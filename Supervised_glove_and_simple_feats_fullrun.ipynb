{
 "cells": [
  {
   "cell_type": "code",
   "execution_count": 1,
   "metadata": {
    "executionInfo": {
     "elapsed": 568,
     "status": "ok",
     "timestamp": 1622239738554,
     "user": {
      "displayName": "Ai Zhong",
      "photoUrl": "https://lh3.googleusercontent.com/a-/AOh14Gh2MWN-q_WG3Xb3YELMkck5bLErFAYBIGqZ_8lQ=s64",
      "userId": "11851498678274176197"
     },
     "user_tz": 420
    },
    "id": "GJu3WpO1gOlW"
   },
   "outputs": [],
   "source": [
    "import os\n",
    "import numpy as np\n",
    "import pickle\n",
    "import pandas as pd\n",
    "from tqdm import tqdm"
   ]
  },
  {
   "cell_type": "code",
   "execution_count": 2,
   "metadata": {
    "executionInfo": {
     "elapsed": 24281,
     "status": "ok",
     "timestamp": 1622239763184,
     "user": {
      "displayName": "Ai Zhong",
      "photoUrl": "https://lh3.googleusercontent.com/a-/AOh14Gh2MWN-q_WG3Xb3YELMkck5bLErFAYBIGqZ_8lQ=s64",
      "userId": "11851498678274176197"
     },
     "user_tz": 420
    },
    "id": "PkZPXM8NrnSg"
   },
   "outputs": [],
   "source": [
    "GLOVE_DIR = 'drive/MyDrive/Milestone2/glove.6B.100d.txt'\n",
    "glove_dict = {}\n",
    "with open(GLOVE_DIR) as f:\n",
    "    for line in f:\n",
    "        word, *vector = line.split()\n",
    "        glove_dict[word]=np.array(vector).astype(float)\n",
    "\n",
    "re_tokenized = pickle.load(open('drive/MyDrive/Milestone2/re_tokenized_lemma.pkl','rb'))"
   ]
  },
  {
   "cell_type": "code",
   "execution_count": 3,
   "metadata": {
    "executionInfo": {
     "elapsed": 17,
     "status": "ok",
     "timestamp": 1622239763186,
     "user": {
      "displayName": "Ai Zhong",
      "photoUrl": "https://lh3.googleusercontent.com/a-/AOh14Gh2MWN-q_WG3Xb3YELMkck5bLErFAYBIGqZ_8lQ=s64",
      "userId": "11851498678274176197"
     },
     "user_tz": 420
    },
    "id": "d7frfiHPrzdA"
   },
   "outputs": [],
   "source": [
    "def get_average_glove_vec(list_of_tokens):\n",
    "    avg_vec=[]\n",
    "    for token in list_of_tokens:\n",
    "    if token in glove_dict:\n",
    "        avg_vec.append(glove_dict[token])\n",
    "\n",
    "    if len(avg_vec)>0:\n",
    "    avg_vec = np.mean(avg_vec, axis=0)\n",
    "    else:\n",
    "    avg_vec = np.zeros(100)\n",
    "\n",
    "    return avg_vec"
   ]
  },
  {
   "cell_type": "code",
   "execution_count": 4,
   "metadata": {
    "colab": {
     "base_uri": "https://localhost:8080/"
    },
    "executionInfo": {
     "elapsed": 11998,
     "status": "ok",
     "timestamp": 1622239775169,
     "user": {
      "displayName": "Ai Zhong",
      "photoUrl": "https://lh3.googleusercontent.com/a-/AOh14Gh2MWN-q_WG3Xb3YELMkck5bLErFAYBIGqZ_8lQ=s64",
      "userId": "11851498678274176197"
     },
     "user_tz": 420
    },
    "id": "5vJF4m56rzfs",
    "outputId": "4c2dc127-a639-4312-9cdf-2409d5ef66c7"
   },
   "outputs": [
    {
     "name": "stderr",
     "output_type": "stream",
     "text": [
      "100%|██████████| 416768/416768 [00:09<00:00, 44127.99it/s]\n",
      "/usr/local/lib/python3.7/dist-packages/ipykernel_launcher.py:29: SettingWithCopyWarning: \n",
      "A value is trying to be set on a copy of a slice from a DataFrame.\n",
      "Try using .loc[row_indexer,col_indexer] = value instead\n",
      "\n",
      "See the caveats in the documentation: https://pandas.pydata.org/pandas-docs/stable/user_guide/indexing.html#returning-a-view-versus-a-copy\n"
     ]
    }
   ],
   "source": [
    "import pandas as pd\n",
    "from tqdm import tqdm\n",
    "\n",
    "import glob\n",
    "\n",
    "# load precalculated features\n",
    "path='sample_data/'\n",
    "feature_files = glob.glob(path+\"WikiLarge_Train_*2.csv\")\n",
    "features = []\n",
    "for f in feature_files:\n",
    "    temp = pd.read_csv(f, index_col=0)\n",
    "    features.append(temp)\n",
    "feature_df = pd.concat(features, axis=1)\n",
    "feature_df = feature_df.fillna(feature_df.mean())\n",
    "\n",
    "df = pd.read_csv(path+'WikiLarge_Train.csv')\n",
    "feature_df = pd.concat([df, feature_df], axis=1)\n",
    "chosen_features = ['aoa', 'concrete_score','verb2', 'conc_unknown', 'aoa_perc_known_lem',\n",
    "        'conc_total', 'syllable_per_word', 'conc_mean_score','dale_chall_score', 'conc_subtlex_score']\n",
    "chosen_cols = ['original_text', 'label']+chosen_features\n",
    "df_original = feature_df[chosen_cols]\n",
    "\n",
    "\n",
    "df_vecs = []\n",
    "\n",
    "for ls in tqdm(re_tokenized):\n",
    "    avg_vec = get_average_glove_vec(ls)\n",
    "    df_vecs.append(avg_vec)\n",
    "\n",
    "df_original['glove_avg'] = df_vecs"
   ]
  },
  {
   "cell_type": "code",
   "execution_count": 5,
   "metadata": {
    "executionInfo": {
     "elapsed": 840,
     "status": "ok",
     "timestamp": 1622239776005,
     "user": {
      "displayName": "Ai Zhong",
      "photoUrl": "https://lh3.googleusercontent.com/a-/AOh14Gh2MWN-q_WG3Xb3YELMkck5bLErFAYBIGqZ_8lQ=s64",
      "userId": "11851498678274176197"
     },
     "user_tz": 420
    },
    "id": "PalHqDQINXjk"
   },
   "outputs": [],
   "source": [
    "X1 = df_original[chosen_features].to_numpy()\n",
    "X2 = np.vstack(df_vecs)\n",
    "X = np.hstack([X1,X2])\n",
    "y = df_original['label']"
   ]
  },
  {
   "cell_type": "code",
   "execution_count": 6,
   "metadata": {
    "executionInfo": {
     "elapsed": 460,
     "status": "ok",
     "timestamp": 1622239776462,
     "user": {
      "displayName": "Ai Zhong",
      "photoUrl": "https://lh3.googleusercontent.com/a-/AOh14Gh2MWN-q_WG3Xb3YELMkck5bLErFAYBIGqZ_8lQ=s64",
      "userId": "11851498678274176197"
     },
     "user_tz": 420
    },
    "id": "wTFYVcj8rzik"
   },
   "outputs": [],
   "source": [
    "from sklearn.model_selection import train_test_split\n",
    "\n",
    "Train_X, Test_X, Train_Y, Test_Y = train_test_split(X, y, test_size=0.3, random_state=42)"
   ]
  },
  {
   "cell_type": "code",
   "execution_count": 7,
   "metadata": {
    "executionInfo": {
     "elapsed": 694,
     "status": "ok",
     "timestamp": 1622239777153,
     "user": {
      "displayName": "Ai Zhong",
      "photoUrl": "https://lh3.googleusercontent.com/a-/AOh14Gh2MWN-q_WG3Xb3YELMkck5bLErFAYBIGqZ_8lQ=s64",
      "userId": "11851498678274176197"
     },
     "user_tz": 420
    },
    "id": "ioDQaEsH4lpE"
   },
   "outputs": [],
   "source": [
    "# save the index for later BERT Model\n",
    "Train_X, Test_X, Train_Y, Test_Y, ind_train, ind_test = train_test_split(X, y, df_original.index, test_size=0.3, random_state=42)"
   ]
  },
  {
   "cell_type": "markdown",
   "metadata": {
    "id": "kYWHduFisJfL"
   },
   "source": [
    "# Random Forest"
   ]
  },
  {
   "cell_type": "code",
   "execution_count": 9,
   "metadata": {
    "colab": {
     "base_uri": "https://localhost:8080/"
    },
    "executionInfo": {
     "elapsed": 3280448,
     "status": "ok",
     "timestamp": 1622243211476,
     "user": {
      "displayName": "Ai Zhong",
      "photoUrl": "https://lh3.googleusercontent.com/a-/AOh14Gh2MWN-q_WG3Xb3YELMkck5bLErFAYBIGqZ_8lQ=s64",
      "userId": "11851498678274176197"
     },
     "user_tz": 420
    },
    "id": "s2Vz5FEGsLKg",
    "outputId": "f6001656-dbb3-41bd-95f2-26bfdf69159d"
   },
   "outputs": [
    {
     "data": {
      "text/plain": [
       "(72.84993321656229, 72.970777928179)"
      ]
     },
     "execution_count": 9,
     "metadata": {
      "tags": []
     },
     "output_type": "execute_result"
    }
   ],
   "source": [
    "from sklearn.ensemble import RandomForestClassifier\n",
    "from sklearn.metrics import accuracy_score, f1_score\n",
    "\n",
    "rf = RandomForestClassifier(bootstrap=True,\n",
    " max_depth=70,\n",
    " max_features='auto',\n",
    " min_samples_leaf=4,\n",
    " min_samples_split=10,\n",
    " n_estimators=800)\n",
    "\n",
    "rf.fit(Train_X, Train_Y)\n",
    "rf_preds = rf.predict(Test_X)\n",
    "rf_acc = accuracy_score(Test_Y, rf_preds)*100\n",
    "rf_f1 = f1_score(Test_Y, rf_preds)*100\n",
    "rf_acc, rf_f1"
   ]
  },
  {
   "cell_type": "code",
   "execution_count": 12,
   "metadata": {
    "colab": {
     "base_uri": "https://localhost:8080/"
    },
    "executionInfo": {
     "elapsed": 88264,
     "status": "ok",
     "timestamp": 1622244115487,
     "user": {
      "displayName": "Ai Zhong",
      "photoUrl": "https://lh3.googleusercontent.com/a-/AOh14Gh2MWN-q_WG3Xb3YELMkck5bLErFAYBIGqZ_8lQ=s64",
      "userId": "11851498678274176197"
     },
     "user_tz": 420
    },
    "id": "NUICQNisg3EM",
    "outputId": "816d10fb-e6e5-4bec-b6ed-f97a2d5d26bc"
   },
   "outputs": [
    {
     "data": {
      "text/plain": [
       "0.9633059913552274"
      ]
     },
     "execution_count": 12,
     "metadata": {
      "tags": []
     },
     "output_type": "execute_result"
    }
   ],
   "source": [
    "rf.score(Train_X, Train_Y)"
   ]
  },
  {
   "cell_type": "code",
   "execution_count": 14,
   "metadata": {
    "executionInfo": {
     "elapsed": 274,
     "status": "ok",
     "timestamp": 1622244279437,
     "user": {
      "displayName": "Ai Zhong",
      "photoUrl": "https://lh3.googleusercontent.com/a-/AOh14Gh2MWN-q_WG3Xb3YELMkck5bLErFAYBIGqZ_8lQ=s64",
      "userId": "11851498678274176197"
     },
     "user_tz": 420
    },
    "id": "5q6uPOUvR4P2"
   },
   "outputs": [],
   "source": [
    "# rf.get_params"
   ]
  },
  {
   "cell_type": "code",
   "execution_count": 16,
   "metadata": {
    "executionInfo": {
     "elapsed": 21898,
     "status": "ok",
     "timestamp": 1622244351278,
     "user": {
      "displayName": "Ai Zhong",
      "photoUrl": "https://lh3.googleusercontent.com/a-/AOh14Gh2MWN-q_WG3Xb3YELMkck5bLErFAYBIGqZ_8lQ=s64",
      "userId": "11851498678274176197"
     },
     "user_tz": 420
    },
    "id": "J96Zh8UQsQOL"
   },
   "outputs": [],
   "source": [
    "pickle.dump(rf, open('drive/MyDrive/Milestone2/trained_models/rf_glove_and_10simple_full.pkl', 'wb'))\n",
    "reloaded_rf = pickle.load(open('drive/MyDrive/Milestone2/trained_models/rf_glove_and_10simple_full.pkl', 'rb'))"
   ]
  },
  {
   "cell_type": "code",
   "execution_count": 17,
   "metadata": {
    "executionInfo": {
     "elapsed": 33253,
     "status": "ok",
     "timestamp": 1622244609688,
     "user": {
      "displayName": "Ai Zhong",
      "photoUrl": "https://lh3.googleusercontent.com/a-/AOh14Gh2MWN-q_WG3Xb3YELMkck5bLErFAYBIGqZ_8lQ=s64",
      "userId": "11851498678274176197"
     },
     "user_tz": 420
    },
    "id": "7i_r7ArugZnd"
   },
   "outputs": [],
   "source": [
    "y_score = rf.predict_proba(Test_X)"
   ]
  },
  {
   "cell_type": "code",
   "execution_count": 19,
   "metadata": {
    "executionInfo": {
     "elapsed": 6,
     "status": "ok",
     "timestamp": 1622244642426,
     "user": {
      "displayName": "Ai Zhong",
      "photoUrl": "https://lh3.googleusercontent.com/a-/AOh14Gh2MWN-q_WG3Xb3YELMkck5bLErFAYBIGqZ_8lQ=s64",
      "userId": "11851498678274176197"
     },
     "user_tz": 420
    },
    "id": "guZxKRh0gzZG"
   },
   "outputs": [],
   "source": [
    "from sklearn.metrics import roc_auc_score, roc_curve, auc\n",
    "\n",
    "rf_fpr, rf_tpr, thresholds = roc_curve(Test_Y, y_score[:,1], pos_label=1)\n",
    "area = auc(rf_fpr, rf_tpr)"
   ]
  },
  {
   "cell_type": "code",
   "execution_count": 20,
   "metadata": {
    "colab": {
     "base_uri": "https://localhost:8080/",
     "height": 410
    },
    "executionInfo": {
     "elapsed": 1163,
     "status": "ok",
     "timestamp": 1622244643585,
     "user": {
      "displayName": "Ai Zhong",
      "photoUrl": "https://lh3.googleusercontent.com/a-/AOh14Gh2MWN-q_WG3Xb3YELMkck5bLErFAYBIGqZ_8lQ=s64",
      "userId": "11851498678274176197"
     },
     "user_tz": 420
    },
    "id": "qRpD_gJDmo4G",
    "outputId": "090b1888-b347-4a09-801e-77fa73d7880c"
   },
   "outputs": [
    {
     "data": {
      "image/png": "[encoded data removed]",
      "text/plain": [
       "<Figure size 576x432 with 1 Axes>"
      ]
     },
     "metadata": {
      "tags": []
     },
     "output_type": "display_data"
    }
   ],
   "source": [
    "%matplotlib inline\n",
    "import matplotlib.pyplot as plt\n",
    "import seaborn as sns\n",
    "sns.set_theme()\n",
    "\n",
    "plt.figure(figsize=(8,6))\n",
    "lw = 2\n",
    "plt.plot(rf_fpr, rf_tpr, color='darkorange',\n",
    "         lw=lw, label='ROC curve (area = %0.2f)' % area)\n",
    "plt.plot([0, 1], [0, 1], color='navy', linestyle='--')\n",
    "plt.xlim([0.0, 1.0])\n",
    "plt.ylim([0.0, 1.05])\n",
    "plt.xlabel('False Positive Rate')\n",
    "plt.ylabel('True Positive Rate')\n",
    "plt.title('ROC RandomForest Glove + Simple features Full TrainingSet v2')\n",
    "plt.legend(loc=\"lower right\")\n",
    "plt.savefig('ROC_RandomForest_glove_simplefeats_full2.jpg')"
   ]
  },
  {
   "cell_type": "code",
   "execution_count": 45,
   "metadata": {
    "executionInfo": {
     "elapsed": 537,
     "status": "ok",
     "timestamp": 1622248341111,
     "user": {
      "displayName": "Ai Zhong",
      "photoUrl": "https://lh3.googleusercontent.com/a-/AOh14Gh2MWN-q_WG3Xb3YELMkck5bLErFAYBIGqZ_8lQ=s64",
      "userId": "11851498678274176197"
     },
     "user_tz": 420
    },
    "id": "_HKBiWxzmo7v"
   },
   "outputs": [],
   "source": [
    "feature_importance_df = pd.DataFrame(rf.feature_importances_)\n",
    "top_10_features = feature_importance_df.sort_values(0, ascending=False).iloc[:10]"
   ]
  },
  {
   "cell_type": "code",
   "execution_count": 46,
   "metadata": {
    "colab": {
     "base_uri": "https://localhost:8080/",
     "height": 359
    },
    "executionInfo": {
     "elapsed": 345,
     "status": "ok",
     "timestamp": 1622248348335,
     "user": {
      "displayName": "Ai Zhong",
      "photoUrl": "https://lh3.googleusercontent.com/a-/AOh14Gh2MWN-q_WG3Xb3YELMkck5bLErFAYBIGqZ_8lQ=s64",
      "userId": "11851498678274176197"
     },
     "user_tz": 420
    },
    "id": "mYf5UUPZbtXB",
    "outputId": "9274f21b-a56b-4d37-b194-5082ee640912"
   },
   "outputs": [
    {
     "data": {
      "text/html": [
       "<div>\n",
       "<style scoped>\n",
       "    .dataframe tbody tr th:only-of-type {\n",
       "        vertical-align: middle;\n",
       "    }\n",
       "\n",
       "    .dataframe tbody tr th {\n",
       "        vertical-align: top;\n",
       "    }\n",
       "\n",
       "    .dataframe thead th {\n",
       "        text-align: right;\n",
       "    }\n",
       "</style>\n",
       "<table border=\"1\" class=\"dataframe\">\n",
       "  <thead>\n",
       "    <tr style=\"text-align: right;\">\n",
       "      <th></th>\n",
       "      <th>index</th>\n",
       "      <th>0</th>\n",
       "      <th>feature</th>\n",
       "    </tr>\n",
       "  </thead>\n",
       "  <tbody>\n",
       "    <tr>\n",
       "      <th>0</th>\n",
       "      <td>8</td>\n",
       "      <td>0.097546</td>\n",
       "      <td>dale_chall_score</td>\n",
       "    </tr>\n",
       "    <tr>\n",
       "      <th>1</th>\n",
       "      <td>0</td>\n",
       "      <td>0.024048</td>\n",
       "      <td>aoa</td>\n",
       "    </tr>\n",
       "    <tr>\n",
       "      <th>2</th>\n",
       "      <td>9</td>\n",
       "      <td>0.016808</td>\n",
       "      <td>conc_subtlex_score</td>\n",
       "    </tr>\n",
       "    <tr>\n",
       "      <th>3</th>\n",
       "      <td>6</td>\n",
       "      <td>0.013917</td>\n",
       "      <td>syllable_per_word</td>\n",
       "    </tr>\n",
       "    <tr>\n",
       "      <th>4</th>\n",
       "      <td>2</td>\n",
       "      <td>0.012007</td>\n",
       "      <td>verb2</td>\n",
       "    </tr>\n",
       "    <tr>\n",
       "      <th>5</th>\n",
       "      <td>7</td>\n",
       "      <td>0.011643</td>\n",
       "      <td>conc_mean_score</td>\n",
       "    </tr>\n",
       "    <tr>\n",
       "      <th>6</th>\n",
       "      <td>79</td>\n",
       "      <td>0.011618</td>\n",
       "      <td>NaN</td>\n",
       "    </tr>\n",
       "    <tr>\n",
       "      <th>7</th>\n",
       "      <td>4</td>\n",
       "      <td>0.011267</td>\n",
       "      <td>aoa_perc_known_lem</td>\n",
       "    </tr>\n",
       "    <tr>\n",
       "      <th>8</th>\n",
       "      <td>65</td>\n",
       "      <td>0.010937</td>\n",
       "      <td>NaN</td>\n",
       "    </tr>\n",
       "    <tr>\n",
       "      <th>9</th>\n",
       "      <td>68</td>\n",
       "      <td>0.010429</td>\n",
       "      <td>NaN</td>\n",
       "    </tr>\n",
       "  </tbody>\n",
       "</table>\n",
       "</div>"
      ],
      "text/plain": [
       "   index         0             feature\n",
       "0      8  0.097546    dale_chall_score\n",
       "1      0  0.024048                 aoa\n",
       "2      9  0.016808  conc_subtlex_score\n",
       "3      6  0.013917   syllable_per_word\n",
       "4      2  0.012007               verb2\n",
       "5      7  0.011643     conc_mean_score\n",
       "6     79  0.011618                 NaN\n",
       "7      4  0.011267  aoa_perc_known_lem\n",
       "8     65  0.010937                 NaN\n",
       "9     68  0.010429                 NaN"
      ]
     },
     "execution_count": 46,
     "metadata": {
      "tags": []
     },
     "output_type": "execute_result"
    }
   ],
   "source": [
    "num_feature_df = pd.DataFrame(chosen_features, columns=['feature']).reset_index()\n",
    "top_10_features_df = top_10_features.reset_index().merge(num_feature_df, 'left')\n",
    "top_10_features_df"
   ]
  },
  {
   "cell_type": "code",
   "execution_count": 44,
   "metadata": {
    "executionInfo": {
     "elapsed": 636,
     "status": "ok",
     "timestamp": 1622246977616,
     "user": {
      "displayName": "Ai Zhong",
      "photoUrl": "https://lh3.googleusercontent.com/a-/AOh14Gh2MWN-q_WG3Xb3YELMkck5bLErFAYBIGqZ_8lQ=s64",
      "userId": "11851498678274176197"
     },
     "user_tz": 420
    },
    "id": "tBilETGacaiB"
   },
   "outputs": [],
   "source": [
    "top_10_features_df.to_csv('feature_importance_rf.csv')"
   ]
  },
  {
   "cell_type": "code",
   "execution_count": 44,
   "metadata": {
    "executionInfo": {
     "elapsed": 168,
     "status": "ok",
     "timestamp": 1622180826552,
     "user": {
      "displayName": "Ai Zhong",
      "photoUrl": "https://lh3.googleusercontent.com/a-/AOh14Gh2MWN-q_WG3Xb3YELMkck5bLErFAYBIGqZ_8lQ=s64",
      "userId": "11851498678274176197"
     },
     "user_tz": 420
    },
    "id": "3C1YMqDlgisY"
   },
   "outputs": [],
   "source": []
  },
  {
   "cell_type": "markdown",
   "metadata": {
    "id": "nKJQ549r5L5c"
   },
   "source": [
    "# Test how BERT behave with this Testing dataset"
   ]
  },
  {
   "cell_type": "code",
   "execution_count": null,
   "metadata": {
    "id": "1r18IdZ35R-N"
   },
   "outputs": [],
   "source": [
    "import tensorflow as tf\n",
    "!pip install tensorflow_text\n",
    "import tensorflow_text as text\n",
    "import pandas as pd\n",
    "\n",
    "\n",
    "saved_model_path='drive/MyDrive/Milestone2/wiki_difficulty_classification_bert_v2'\n",
    "reloaded_model = tf.saved_model.load(saved_model_path)"
   ]
  },
  {
   "cell_type": "code",
   "execution_count": 56,
   "metadata": {
    "colab": {
     "base_uri": "https://localhost:8080/"
    },
    "executionInfo": {
     "elapsed": 284,
     "status": "ok",
     "timestamp": 1622249576227,
     "user": {
      "displayName": "Ai Zhong",
      "photoUrl": "https://lh3.googleusercontent.com/a-/AOh14Gh2MWN-q_WG3Xb3YELMkck5bLErFAYBIGqZ_8lQ=s64",
      "userId": "11851498678274176197"
     },
     "user_tz": 420
    },
    "id": "tKOyidz4gwxG",
    "outputId": "11a15047-6652-4136-ab73-e5367d32cb19"
   },
   "outputs": [
    {
     "data": {
      "text/plain": [
       "(125031,)"
      ]
     },
     "execution_count": 56,
     "metadata": {
      "tags": []
     },
     "output_type": "execute_result"
    }
   ],
   "source": [
    "Train_original_text = df_original.original_text[ind_train]\n",
    "Test_original_text = df_original.original_text[ind_test]\n",
    "Test_original_text.shape"
   ]
  },
  {
   "cell_type": "code",
   "execution_count": 60,
   "metadata": {
    "colab": {
     "base_uri": "https://localhost:8080/"
    },
    "executionInfo": {
     "elapsed": 828,
     "status": "ok",
     "timestamp": 1622249658242,
     "user": {
      "displayName": "Ai Zhong",
      "photoUrl": "https://lh3.googleusercontent.com/a-/AOh14Gh2MWN-q_WG3Xb3YELMkck5bLErFAYBIGqZ_8lQ=s64",
      "userId": "11851498678274176197"
     },
     "user_tz": 420
    },
    "id": "aZ53yM9n4-Ja",
    "outputId": "80603319-dc4a-4943-8c20-7e16cf87924d"
   },
   "outputs": [
    {
     "name": "stderr",
     "output_type": "stream",
     "text": [
      "100%|██████████| 1/1 [00:00<00:00,  1.74it/s]\n"
     ]
    }
   ],
   "source": [
    "from tqdm import tqdm\n",
    "\n",
    "results_all = []\n",
    "for i in tqdm(range(1,2502)):\n",
    "    res = tf.sigmoid(reloaded_model(tf.constant(Test_original_text[(i-1)*50:i*50])))\n",
    "    results_all.append(res)"
   ]
  },
  {
   "cell_type": "code",
   "execution_count": 61,
   "metadata": {
    "executionInfo": {
     "elapsed": 333,
     "status": "ok",
     "timestamp": 1622249661726,
     "user": {
      "displayName": "Ai Zhong",
      "photoUrl": "https://lh3.googleusercontent.com/a-/AOh14Gh2MWN-q_WG3Xb3YELMkck5bLErFAYBIGqZ_8lQ=s64",
      "userId": "11851498678274176197"
     },
     "user_tz": 420
    },
    "id": "J0pkfoM25nbk"
   },
   "outputs": [],
   "source": [
    "results_all2 = np.vstack(results_all)\n",
    "bert_preds = np.ndarray.flatten((results_all2>0.5)*1)"
   ]
  },
  {
   "cell_type": "code",
   "execution_count": 63,
   "metadata": {
    "colab": {
     "base_uri": "https://localhost:8080/"
    },
    "executionInfo": {
     "elapsed": 753,
     "status": "ok",
     "timestamp": 1622249666058,
     "user": {
      "displayName": "Ai Zhong",
      "photoUrl": "https://lh3.googleusercontent.com/a-/AOh14Gh2MWN-q_WG3Xb3YELMkck5bLErFAYBIGqZ_8lQ=s64",
      "userId": "11851498678274176197"
     },
     "user_tz": 420
    },
    "id": "g5o8AiDB5nfh",
    "outputId": "48367ba6-d435-4325-9233-bf199f060b8c"
   },
   "outputs": [
    {
     "data": {
      "text/plain": [
       "(87.02881685342035, 87.63777726960896)"
      ]
     },
     "execution_count": 63,
     "metadata": {
      "tags": []
     },
     "output_type": "execute_result"
    }
   ],
   "source": [
    "bert_acc = accuracy_score(Test_Y, bert_preds)*100\n",
    "bert_f1 = f1_score(Test_Y, bert_preds)*100\n",
    "bert_acc, bert_f1"
   ]
  },
  {
   "cell_type": "code",
   "execution_count": 65,
   "metadata": {
    "executionInfo": {
     "elapsed": 257,
     "status": "ok",
     "timestamp": 1622249790501,
     "user": {
      "displayName": "Ai Zhong",
      "photoUrl": "https://lh3.googleusercontent.com/a-/AOh14Gh2MWN-q_WG3Xb3YELMkck5bLErFAYBIGqZ_8lQ=s64",
      "userId": "11851498678274176197"
     },
     "user_tz": 420
    },
    "id": "OrkBsX4JnoHP"
   },
   "outputs": [],
   "source": [
    "bert_fpr, bert_tpr, thresholds = roc_curve(Test_Y, results_all2, pos_label=1)\n",
    "bert_area = auc(bert_fpr, bert_tpr)"
   ]
  },
  {
   "cell_type": "code",
   "execution_count": 66,
   "metadata": {
    "colab": {
     "base_uri": "https://localhost:8080/",
     "height": 410
    },
    "executionInfo": {
     "elapsed": 766,
     "status": "ok",
     "timestamp": 1622249859592,
     "user": {
      "displayName": "Ai Zhong",
      "photoUrl": "https://lh3.googleusercontent.com/a-/AOh14Gh2MWN-q_WG3Xb3YELMkck5bLErFAYBIGqZ_8lQ=s64",
      "userId": "11851498678274176197"
     },
     "user_tz": 420
    },
    "id": "J0R3H5PRn1nw",
    "outputId": "174b13ca-d93c-4c93-d75e-f4375067f790"
   },
   "outputs": [
    {
     "data": {
      "image/png": "[encoded data removed]",
      "text/plain": [
       "<Figure size 576x432 with 1 Axes>"
      ]
     },
     "metadata": {
      "tags": []
     },
     "output_type": "display_data"
    }
   ],
   "source": [
    "plt.figure(figsize=(8,6))\n",
    "lw = 2\n",
    "plt.plot(bert_fpr, bert_tpr, color='darkorange',\n",
    "         lw=lw, label='ROC curve (area = %0.2f)' % bert_area)\n",
    "plt.plot([0, 1], [0, 1], color='navy', linestyle='--')\n",
    "plt.xlim([0.0, 1.0])\n",
    "plt.ylim([0.0, 1.05])\n",
    "plt.xlabel('False Positive Rate')\n",
    "plt.ylabel('True Positive Rate')\n",
    "plt.title('BERT prediction with Full Training Set')\n",
    "plt.legend(loc=\"lower right\")\n",
    "plt.savefig('ROC_BERT_full.jpg')"
   ]
  },
  {
   "cell_type": "code",
   "execution_count": null,
   "metadata": {
    "id": "fWPUBFdDoGWS"
   },
   "outputs": [],
   "source": []
  }
 ],
 "metadata": {
  "accelerator": "GPU",
  "colab": {
   "authorship_tag": "ABX9TyMvJzOy1uGWuw+OQ5pb8hnD",
   "collapsed_sections": [],
   "mount_file_id": "1Z5E77wgMmEbO7vj-fug--DW_AhTXlXAM",
   "name": "Milestone2_glove_and_simple_feats_fullrun.ipynb",
   "provenance": []
  },
  "kernelspec": {
   "display_name": "Python 3",
   "language": "python",
   "name": "python3"
  },
  "language_info": {
   "codemirror_mode": {
    "name": "ipython",
    "version": 3
   },
   "file_extension": ".py",
   "mimetype": "text/x-python",
   "name": "python",
   "nbconvert_exporter": "python",
   "pygments_lexer": "ipython3",
   "version": "3.6.7"
  }
 },
 "nbformat": 4,
 "nbformat_minor": 1
}
