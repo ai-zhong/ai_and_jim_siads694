{
 "cells": [
  {
   "cell_type": "code",
   "execution_count": 1,
   "metadata": {
    "executionInfo": {
     "elapsed": 31116,
     "status": "ok",
     "timestamp": 1622238898306,
     "user": {
      "displayName": "Ai Zhong",
      "photoUrl": "https://lh3.googleusercontent.com/a-/AOh14Gh2MWN-q_WG3Xb3YELMkck5bLErFAYBIGqZ_8lQ=s64",
      "userId": "11851498678274176197"
     },
     "user_tz": 420
    },
    "id": "GJu3WpO1gOlW"
   },
   "outputs": [],
   "source": [
    "import os\n",
    "import numpy as np\n",
    "import pickle\n",
    "import pandas as pd\n",
    "from tqdm import tqdm\n",
    "\n",
    "GLOVE_DIR = 'drive/MyDrive/Milestone2/glove.6B.100d.txt'\n",
    "glove_dict = {}\n",
    "with open(GLOVE_DIR) as f:\n",
    "    for line in f:\n",
    "        word, *vector = line.split()\n",
    "        glove_dict[word]=np.array(vector).astype(float)\n",
    "\n",
    "re_tokenized = pickle.load(open('drive/MyDrive/Milestone2/re_tokenized_lemma.pkl','rb'))"
   ]
  },
  {
   "cell_type": "code",
   "execution_count": 4,
   "metadata": {
    "executionInfo": {
     "elapsed": 129,
     "status": "ok",
     "timestamp": 1622238960872,
     "user": {
      "displayName": "Ai Zhong",
      "photoUrl": "https://lh3.googleusercontent.com/a-/AOh14Gh2MWN-q_WG3Xb3YELMkck5bLErFAYBIGqZ_8lQ=s64",
      "userId": "11851498678274176197"
     },
     "user_tz": 420
    },
    "id": "d7frfiHPrzdA"
   },
   "outputs": [],
   "source": [
    "def get_average_glove_vec(list_of_tokens):\n",
    "    avg_vec=[]\n",
    "    for token in list_of_tokens:\n",
    "    if token in glove_dict:\n",
    "        avg_vec.append(glove_dict[token])\n",
    "\n",
    "    if len(avg_vec)>0:\n",
    "    avg_vec = np.mean(avg_vec, axis=0)\n",
    "    else:\n",
    "    avg_vec = np.zeros(100)\n",
    "\n",
    "    return avg_vec"
   ]
  },
  {
   "cell_type": "code",
   "execution_count": 7,
   "metadata": {
    "colab": {
     "base_uri": "https://localhost:8080/"
    },
    "executionInfo": {
     "elapsed": 20219,
     "status": "ok",
     "timestamp": 1622239006843,
     "user": {
      "displayName": "Ai Zhong",
      "photoUrl": "https://lh3.googleusercontent.com/a-/AOh14Gh2MWN-q_WG3Xb3YELMkck5bLErFAYBIGqZ_8lQ=s64",
      "userId": "11851498678274176197"
     },
     "user_tz": 420
    },
    "id": "5vJF4m56rzfs",
    "outputId": "339c3050-94fc-456b-aa10-b1630990bf4f"
   },
   "outputs": [
    {
     "name": "stderr",
     "output_type": "stream",
     "text": [
      "100%|██████████| 416768/416768 [00:11<00:00, 35169.03it/s]\n",
      "/usr/local/lib/python3.7/dist-packages/ipykernel_launcher.py:29: SettingWithCopyWarning: \n",
      "A value is trying to be set on a copy of a slice from a DataFrame.\n",
      "Try using .loc[row_indexer,col_indexer] = value instead\n",
      "\n",
      "See the caveats in the documentation: https://pandas.pydata.org/pandas-docs/stable/user_guide/indexing.html#returning-a-view-versus-a-copy\n"
     ]
    }
   ],
   "source": [
    "import pandas as pd\n",
    "from tqdm import tqdm\n",
    "import glob\n",
    "\n",
    "# Load precalculated features\n",
    "path='drive/MyDrive/Milestone2/'\n",
    "feature_files = glob.glob(path+\"WikiLarge_Train_*2.csv\")\n",
    "features = []\n",
    "for f in feature_files:\n",
    "    temp = pd.read_csv(f, index_col=0)\n",
    "    features.append(temp)\n",
    "feature_df = pd.concat(features, axis=1)\n",
    "feature_df = feature_df.fillna(feature_df.mean())\n",
    "\n",
    "# Load original data\n",
    "df = pd.read_csv(path+'WikiLarge_Train.csv')\n",
    "feature_df = pd.concat([df, feature_df], axis=1)\n",
    "# set the chosen numerical features\n",
    "chosen_features = ['aoa', 'concrete_score','verb2', 'conc_unknown', 'aoa_perc_known_lem',\n",
    "        'conc_total', 'syllable_per_word', 'conc_mean_score','dale_chall_score', 'conc_subtlex_score']\n",
    "chosen_cols = ['original_text', 'label']+chosen_features\n",
    "df_original = feature_df[chosen_cols]\n",
    "\n",
    "# calculate average GloVe vectors for each sentence\n",
    "df_vecs = []\n",
    "for ls in tqdm(re_tokenized):\n",
    "    avg_vec = get_average_glove_vec(ls)\n",
    "    df_vecs.append(avg_vec)\n",
    "\n",
    "df_original['glove_avg'] = df_vecs"
   ]
  },
  {
   "cell_type": "code",
   "execution_count": 8,
   "metadata": {
    "executionInfo": {
     "elapsed": 1024,
     "status": "ok",
     "timestamp": 1622239049040,
     "user": {
      "displayName": "Ai Zhong",
      "photoUrl": "https://lh3.googleusercontent.com/a-/AOh14Gh2MWN-q_WG3Xb3YELMkck5bLErFAYBIGqZ_8lQ=s64",
      "userId": "11851498678274176197"
     },
     "user_tz": 420
    },
    "id": "PalHqDQINXjk"
   },
   "outputs": [],
   "source": [
    "# concatenate the numerical features and calculated GloVe vectors\n",
    "X1 = df_original[chosen_features].to_numpy()\n",
    "X2 = np.vstack(df_vecs)\n",
    "X = np.hstack([X1,X2])"
   ]
  },
  {
   "cell_type": "code",
   "execution_count": 9,
   "metadata": {
    "executionInfo": {
     "elapsed": 86,
     "status": "ok",
     "timestamp": 1622239051681,
     "user": {
      "displayName": "Ai Zhong",
      "photoUrl": "https://lh3.googleusercontent.com/a-/AOh14Gh2MWN-q_WG3Xb3YELMkck5bLErFAYBIGqZ_8lQ=s64",
      "userId": "11851498678274176197"
     },
     "user_tz": 420
    },
    "id": "o7vveZY9Nv1b"
   },
   "outputs": [],
   "source": [
    "df = df_original.sample(100000, random_state=42)\n",
    "X_sampled = X[df.index]\n",
    "y = df['label']"
   ]
  },
  {
   "cell_type": "code",
   "execution_count": 11,
   "metadata": {
    "executionInfo": {
     "elapsed": 996,
     "status": "ok",
     "timestamp": 1622239065408,
     "user": {
      "displayName": "Ai Zhong",
      "photoUrl": "https://lh3.googleusercontent.com/a-/AOh14Gh2MWN-q_WG3Xb3YELMkck5bLErFAYBIGqZ_8lQ=s64",
      "userId": "11851498678274176197"
     },
     "user_tz": 420
    },
    "id": "wTFYVcj8rzik"
   },
   "outputs": [],
   "source": [
    "from sklearn.model_selection import train_test_split\n",
    "\n",
    "Train_X, Test_X, Train_Y, Test_Y = train_test_split(X_sampled, y, test_size=0.2, random_state=42)"
   ]
  },
  {
   "cell_type": "code",
   "execution_count": 15,
   "metadata": {
    "colab": {
     "base_uri": "https://localhost:8080/"
    },
    "executionInfo": {
     "elapsed": 161,
     "status": "ok",
     "timestamp": 1622239213301,
     "user": {
      "displayName": "Ai Zhong",
      "photoUrl": "https://lh3.googleusercontent.com/a-/AOh14Gh2MWN-q_WG3Xb3YELMkck5bLErFAYBIGqZ_8lQ=s64",
      "userId": "11851498678274176197"
     },
     "user_tz": 420
    },
    "id": "_TUISuFrsFrH",
    "outputId": "8857f5c9-6d84-4257-ee75-122c41b7582f"
   },
   "outputs": [
    {
     "data": {
      "text/plain": [
       "(80000, 110)"
      ]
     },
     "execution_count": 15,
     "metadata": {
      "tags": []
     },
     "output_type": "execute_result"
    }
   ],
   "source": [
    "Train_X.shape"
   ]
  },
  {
   "cell_type": "markdown",
   "metadata": {
    "id": "kYWHduFisJfL"
   },
   "source": [
    "# Random Forest"
   ]
  },
  {
   "cell_type": "code",
   "execution_count": 18,
   "metadata": {
    "colab": {
     "base_uri": "https://localhost:8080/"
    },
    "executionInfo": {
     "elapsed": 563870,
     "status": "ok",
     "timestamp": 1622239920034,
     "user": {
      "displayName": "Ai Zhong",
      "photoUrl": "https://lh3.googleusercontent.com/a-/AOh14Gh2MWN-q_WG3Xb3YELMkck5bLErFAYBIGqZ_8lQ=s64",
      "userId": "11851498678274176197"
     },
     "user_tz": 420
    },
    "id": "s2Vz5FEGsLKg",
    "outputId": "7bbbb320-543a-45ac-be97-96c5901adafe"
   },
   "outputs": [
    {
     "data": {
      "text/plain": [
       "(0.709, 0.7142857142857143)"
      ]
     },
     "execution_count": 18,
     "metadata": {
      "tags": []
     },
     "output_type": "execute_result"
    }
   ],
   "source": [
    "from sklearn.ensemble import RandomForestClassifier\n",
    "from sklearn.metrics import accuracy_score, f1_score\n",
    "\n",
    "rf = RandomForestClassifier(bootstrap=True,\n",
    " max_depth=50,\n",
    " max_features='auto',\n",
    " min_samples_leaf=4,\n",
    " min_samples_split=10,\n",
    " n_estimators=500)\n",
    "\n",
    "rf.fit(Train_X, Train_Y)\n",
    "rf_preds = rf.predict(Test_X)\n",
    "rf_acc = accuracy_score(Test_Y, rf_preds)\n",
    "rf_f1 = f1_score(Test_Y, rf_preds)\n",
    "rf_acc, rf_f1"
   ]
  },
  {
   "cell_type": "code",
   "execution_count": 19,
   "metadata": {
    "executionInfo": {
     "elapsed": 4371,
     "status": "ok",
     "timestamp": 1622241521016,
     "user": {
      "displayName": "Ai Zhong",
      "photoUrl": "https://lh3.googleusercontent.com/a-/AOh14Gh2MWN-q_WG3Xb3YELMkck5bLErFAYBIGqZ_8lQ=s64",
      "userId": "11851498678274176197"
     },
     "user_tz": 420
    },
    "id": "J96Zh8UQsQOL"
   },
   "outputs": [],
   "source": [
    "pickle.dump(rf, open('drive/MyDrive/Milestone2/trained_models/rf_glove_and_simples_10w.pkl', 'wb'))"
   ]
  },
  {
   "cell_type": "code",
   "execution_count": 20,
   "metadata": {
    "executionInfo": {
     "elapsed": 8168,
     "status": "ok",
     "timestamp": 1622241530545,
     "user": {
      "displayName": "Ai Zhong",
      "photoUrl": "https://lh3.googleusercontent.com/a-/AOh14Gh2MWN-q_WG3Xb3YELMkck5bLErFAYBIGqZ_8lQ=s64",
      "userId": "11851498678274176197"
     },
     "user_tz": 420
    },
    "id": "7i_r7ArugZnd"
   },
   "outputs": [],
   "source": [
    "reloaded_rf = pickle.load(open('drive/MyDrive/Milestone2/trained_models/rf_glove_and_simples_10w.pkl', 'rb'))\n",
    "y_score = reloaded_rf.predict_proba(Test_X)"
   ]
  },
  {
   "cell_type": "code",
   "execution_count": 21,
   "metadata": {
    "executionInfo": {
     "elapsed": 135,
     "status": "ok",
     "timestamp": 1622241565327,
     "user": {
      "displayName": "Ai Zhong",
      "photoUrl": "https://lh3.googleusercontent.com/a-/AOh14Gh2MWN-q_WG3Xb3YELMkck5bLErFAYBIGqZ_8lQ=s64",
      "userId": "11851498678274176197"
     },
     "user_tz": 420
    },
    "id": "guZxKRh0gzZG"
   },
   "outputs": [],
   "source": [
    "from sklearn.metrics import roc_auc_score, roc_curve, auc\n",
    "\n",
    "rf_fpr, rf_tpr, thresholds = roc_curve(Test_Y, y_score[:,1], pos_label=1)\n",
    "area = auc(rf_fpr, rf_tpr)"
   ]
  },
  {
   "cell_type": "code",
   "execution_count": 22,
   "metadata": {
    "colab": {
     "base_uri": "https://localhost:8080/",
     "height": 410
    },
    "executionInfo": {
     "elapsed": 1052,
     "status": "ok",
     "timestamp": 1622241568267,
     "user": {
      "displayName": "Ai Zhong",
      "photoUrl": "https://lh3.googleusercontent.com/a-/AOh14Gh2MWN-q_WG3Xb3YELMkck5bLErFAYBIGqZ_8lQ=s64",
      "userId": "11851498678274176197"
     },
     "user_tz": 420
    },
    "id": "qRpD_gJDmo4G",
    "outputId": "44531d8e-2476-412a-a659-3c1a79333413"
   },
   "outputs": [
    {
     "data": {
      "image/png": "[encoded data removed]",
      "text/plain": [
       "<Figure size 576x432 with 1 Axes>"
      ]
     },
     "metadata": {
      "tags": []
     },
     "output_type": "display_data"
    }
   ],
   "source": [
    "%matplotlib inline\n",
    "import matplotlib.pyplot as plt\n",
    "import seaborn as sns\n",
    "sns.set_theme()\n",
    "\n",
    "plt.figure(figsize=(8,6))\n",
    "lw = 2\n",
    "plt.plot(rf_fpr, rf_tpr, color='darkorange',\n",
    "         lw=lw, label='ROC curve (area = %0.2f)' % area)\n",
    "plt.plot([0, 1], [0, 1], color='navy', linestyle='--')\n",
    "plt.xlim([0.0, 1.0])\n",
    "plt.ylim([0.0, 1.05])\n",
    "plt.xlabel('False Positive Rate')\n",
    "plt.ylabel('True Positive Rate')\n",
    "plt.title('ROC RandomForest Glove + Simple features')\n",
    "plt.legend(loc=\"lower right\")\n",
    "plt.savefig('ROC_RandomForest_glove_simplefeats.jpg')"
   ]
  },
  {
   "cell_type": "code",
   "execution_count": 28,
   "metadata": {
    "executionInfo": {
     "elapsed": 479,
     "status": "ok",
     "timestamp": 1622241903083,
     "user": {
      "displayName": "Ai Zhong",
      "photoUrl": "https://lh3.googleusercontent.com/a-/AOh14Gh2MWN-q_WG3Xb3YELMkck5bLErFAYBIGqZ_8lQ=s64",
      "userId": "11851498678274176197"
     },
     "user_tz": 420
    },
    "id": "_HKBiWxzmo7v"
   },
   "outputs": [],
   "source": [
    "roc_df = pd.DataFrame([rf_fpr, rf_tpr]).T\n",
    "roc_df.columns = ['rf_fpr', 'rf_tpr']\n",
    "roc_df['feat'] = 'glove_simple'"
   ]
  },
  {
   "cell_type": "code",
   "execution_count": 30,
   "metadata": {
    "executionInfo": {
     "elapsed": 149,
     "status": "ok",
     "timestamp": 1622241937963,
     "user": {
      "displayName": "Ai Zhong",
      "photoUrl": "https://lh3.googleusercontent.com/a-/AOh14Gh2MWN-q_WG3Xb3YELMkck5bLErFAYBIGqZ_8lQ=s64",
      "userId": "11851498678274176197"
     },
     "user_tz": 420
    },
    "id": "Lp2Lfs4MJkN6"
   },
   "outputs": [],
   "source": [
    "roc_df.to_csv('roc_glove_simple_100k.csv')"
   ]
  },
  {
   "cell_type": "code",
   "execution_count": null,
   "metadata": {
    "id": "jM_jC3a5JkQi"
   },
   "outputs": [],
   "source": []
  },
  {
   "cell_type": "code",
   "execution_count": null,
   "metadata": {
    "id": "zSnMjWO3JkUb"
   },
   "outputs": [],
   "source": []
  },
  {
   "cell_type": "markdown",
   "metadata": {
    "id": "0rkPMbZKsRAo"
   },
   "source": [
    "# Skipping SVM with large samples"
   ]
  },
  {
   "cell_type": "markdown",
   "metadata": {
    "id": "D0pjpGcetN9m"
   },
   "source": [
    "# MLP"
   ]
  },
  {
   "cell_type": "code",
   "execution_count": null,
   "metadata": {
    "id": "uMyJqzwgtNHA"
   },
   "outputs": [],
   "source": [
    "from sklearn.neural_network import MLPClassifier\n",
    "\n",
    "mlp = MLPClassifier(hidden_layer_sizes=(150), random_state=1, max_iter=300).fit(Train_X, Train_Y)\n",
    "mlp_predict = mlp.predict(Test_X)"
   ]
  },
  {
   "cell_type": "code",
   "execution_count": null,
   "metadata": {
    "colab": {
     "base_uri": "https://localhost:8080/"
    },
    "executionInfo": {
     "elapsed": 17,
     "status": "ok",
     "timestamp": 1622136997459,
     "user": {
      "displayName": "Ai Zhong",
      "photoUrl": "https://lh3.googleusercontent.com/a-/AOh14Gh2MWN-q_WG3Xb3YELMkck5bLErFAYBIGqZ_8lQ=s64",
      "userId": "11851498678274176197"
     },
     "user_tz": 420
    },
    "id": "Rs-GOMmgcXri",
    "outputId": "c93fa13b-9c8c-415f-beb6-9e1386828a51"
   },
   "outputs": [
    {
     "data": {
      "text/plain": [
       "(0.63825, 0.6925332540053546)"
      ]
     },
     "execution_count": 25,
     "metadata": {
      "tags": []
     },
     "output_type": "execute_result"
    }
   ],
   "source": [
    "from sklearn.metrics import accuracy_score, f1_score\n",
    "\n",
    "mlp_acc = accuracy_score(Test_Y, mlp_predict)\n",
    "mlp_f1 = f1_score(Test_Y, mlp_predict)\n",
    "mlp_acc, mlp_f1"
   ]
  },
  {
   "cell_type": "code",
   "execution_count": null,
   "metadata": {
    "colab": {
     "base_uri": "https://localhost:8080/"
    },
    "executionInfo": {
     "elapsed": 6049,
     "status": "ok",
     "timestamp": 1622137004256,
     "user": {
      "displayName": "Ai Zhong",
      "photoUrl": "https://lh3.googleusercontent.com/a-/AOh14Gh2MWN-q_WG3Xb3YELMkck5bLErFAYBIGqZ_8lQ=s64",
      "userId": "11851498678274176197"
     },
     "user_tz": 420
    },
    "id": "LONPSP8Y0hRg",
    "outputId": "96de799a-a6b6-4385-ba38-5087b494a541"
   },
   "outputs": [
    {
     "data": {
      "text/plain": [
       "0.64655"
      ]
     },
     "execution_count": 26,
     "metadata": {
      "tags": []
     },
     "output_type": "execute_result"
    }
   ],
   "source": [
    "mlp.score(Train_X, Train_Y)"
   ]
  },
  {
   "cell_type": "code",
   "execution_count": null,
   "metadata": {
    "id": "F-JfgW1DtTDj"
   },
   "outputs": [],
   "source": [
    "pickle.dump(mlp, open('drive/MyDrive/Milestone2/trained_models/mlp_word2vec_and_simples.pkl', 'wb'))"
   ]
  },
  {
   "cell_type": "code",
   "execution_count": null,
   "metadata": {
    "id": "eJ-Ff81wh99R"
   },
   "outputs": [],
   "source": [
    "reloaded_mlp = pickle.load(open('drive/MyDrive/Milestone2/trained_models/mlp_word2vec_and_simples.pkl', 'rb'))"
   ]
  },
  {
   "cell_type": "code",
   "execution_count": null,
   "metadata": {
    "colab": {
     "base_uri": "https://localhost:8080/",
     "height": 410
    },
    "executionInfo": {
     "elapsed": 2106,
     "status": "ok",
     "timestamp": 1622137006359,
     "user": {
      "displayName": "Ai Zhong",
      "photoUrl": "https://lh3.googleusercontent.com/a-/AOh14Gh2MWN-q_WG3Xb3YELMkck5bLErFAYBIGqZ_8lQ=s64",
      "userId": "11851498678274176197"
     },
     "user_tz": 420
    },
    "id": "yPcVNTqJktbC",
    "outputId": "21eb9c1f-ccda-4c2f-8eec-a59ea49547c2"
   },
   "outputs": [
    {
     "data": {
      "image/png": "[encoded data removed]",
      "text/plain": [
       "<Figure size 576x432 with 1 Axes>"
      ]
     },
     "metadata": {
      "tags": []
     },
     "output_type": "display_data"
    }
   ],
   "source": [
    "from sklearn.metrics import roc_auc_score, roc_curve, auc\n",
    "\n",
    "y_score = reloaded_mlp.predict_proba(Test_X)\n",
    "mlp_fpr, mlp_tpr, thresholds = roc_curve(Test_Y, y_score[:,1], pos_label=1)\n",
    "area = auc(mlp_fpr, mlp_tpr)\n",
    "\n",
    "%matplotlib inline\n",
    "import matplotlib.pyplot as plt\n",
    "import seaborn as sns\n",
    "sns.set_theme()\n",
    "\n",
    "plt.figure(figsize=(8,6))\n",
    "lw = 2\n",
    "plt.plot(mlp_fpr, mlp_tpr, color='darkorange',\n",
    "         lw=lw, label='ROC curve (area = %0.2f)' % area)\n",
    "plt.plot([0, 1], [0, 1], color='navy', linestyle='--')\n",
    "plt.xlim([0.0, 1.0])\n",
    "plt.ylim([0.0, 1.05])\n",
    "plt.xlabel('False Positive Rate')\n",
    "plt.ylabel('True Positive Rate')\n",
    "plt.title('ROC score MLP with Tf-Idf')\n",
    "plt.legend(loc=\"lower right\")\n",
    "plt.savefig('ROC_MLP_glove_simplefeats.jpg')"
   ]
  },
  {
   "cell_type": "code",
   "execution_count": null,
   "metadata": {
    "id": "kVMKsDo3kuWL"
   },
   "outputs": [],
   "source": []
  },
  {
   "cell_type": "markdown",
   "metadata": {
    "id": "hF3ybbSj9bVa"
   },
   "source": [
    "# Summary"
   ]
  },
  {
   "cell_type": "code",
   "execution_count": null,
   "metadata": {
    "colab": {
     "base_uri": "https://localhost:8080/",
     "height": 111
    },
    "executionInfo": {
     "elapsed": 100,
     "status": "ok",
     "timestamp": 1622138027246,
     "user": {
      "displayName": "Ai Zhong",
      "photoUrl": "https://lh3.googleusercontent.com/a-/AOh14Gh2MWN-q_WG3Xb3YELMkck5bLErFAYBIGqZ_8lQ=s64",
      "userId": "11851498678274176197"
     },
     "user_tz": 420
    },
    "id": "o8KpVWG9kteP",
    "outputId": "71fa0ecb-8f90-462f-d7ed-758aecef134b"
   },
   "outputs": [
    {
     "data": {
      "text/html": [
       "<div>\n",
       "<style scoped>\n",
       "    .dataframe tbody tr th:only-of-type {\n",
       "        vertical-align: middle;\n",
       "    }\n",
       "\n",
       "    .dataframe tbody tr th {\n",
       "        vertical-align: top;\n",
       "    }\n",
       "\n",
       "    .dataframe thead th {\n",
       "        text-align: right;\n",
       "    }\n",
       "</style>\n",
       "<table border=\"1\" class=\"dataframe\">\n",
       "  <thead>\n",
       "    <tr style=\"text-align: right;\">\n",
       "      <th></th>\n",
       "      <th>accuracy</th>\n",
       "      <th>f1 score</th>\n",
       "      <th>model</th>\n",
       "    </tr>\n",
       "  </thead>\n",
       "  <tbody>\n",
       "    <tr>\n",
       "      <th>0</th>\n",
       "      <td>0.63825</td>\n",
       "      <td>0.692533</td>\n",
       "      <td>MLP</td>\n",
       "    </tr>\n",
       "    <tr>\n",
       "      <th>1</th>\n",
       "      <td>0.70925</td>\n",
       "      <td>0.715467</td>\n",
       "      <td>RandomForest</td>\n",
       "    </tr>\n",
       "  </tbody>\n",
       "</table>\n",
       "</div>"
      ],
      "text/plain": [
       "   accuracy  f1 score         model\n",
       "0   0.63825  0.692533           MLP\n",
       "1   0.70925  0.715467  RandomForest"
      ]
     },
     "execution_count": 30,
     "metadata": {
      "tags": []
     },
     "output_type": "execute_result"
    }
   ],
   "source": [
    "score_df = pd.DataFrame([[mlp_acc, rf_acc],[mlp_f1, rf_f1]]).T\n",
    "score_df.columns=['accuracy', 'f1 score']\n",
    "score_df['model'] = ['MLP','RandomForest']\n",
    "score_df.to_csv('scores_10w_glove_simplefeats.csv')\n",
    "score_df"
   ]
  },
  {
   "cell_type": "code",
   "execution_count": null,
   "metadata": {
    "id": "w7hFjz87ktiB"
   },
   "outputs": [],
   "source": []
  },
  {
   "cell_type": "code",
   "execution_count": null,
   "metadata": {
    "id": "37cNuj19ktjn"
   },
   "outputs": [],
   "source": []
  },
  {
   "cell_type": "code",
   "execution_count": null,
   "metadata": {
    "id": "KYVtFp1Dktle"
   },
   "outputs": [],
   "source": []
  },
  {
   "cell_type": "code",
   "execution_count": null,
   "metadata": {
    "id": "RkzKL2Ce2BpP"
   },
   "outputs": [],
   "source": []
  }
 ],
 "metadata": {
  "colab": {
   "authorship_tag": "ABX9TyO3x/648zeBBn+jYBSp7hrh",
   "collapsed_sections": [],
   "mount_file_id": "1SdKgTR87Rc6nydMibyXOB-HtGh21MW4W",
   "name": "Milestone2_glove_and_simple_feats_100k.ipynb",
   "provenance": [],
   "toc_visible": true
  },
  "kernelspec": {
   "display_name": "Python 3",
   "language": "python",
   "name": "python3"
  },
  "language_info": {
   "codemirror_mode": {
    "name": "ipython",
    "version": 3
   },
   "file_extension": ".py",
   "mimetype": "text/x-python",
   "name": "python",
   "nbconvert_exporter": "python",
   "pygments_lexer": "ipython3",
   "version": "3.6.7"
  }
 },
 "nbformat": 4,
 "nbformat_minor": 1
}
